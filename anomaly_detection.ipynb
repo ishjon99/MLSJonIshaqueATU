{
 "cells": [
  {
   "cell_type": "markdown",
   "id": "830e4801-7b1f-48c4-956b-00db48058500",
   "metadata": {},
   "source": [
    "# Anomaly Detection Using Keras\n",
    "*** "
   ]
  },
  {
   "cell_type": "code",
   "execution_count": 5,
   "id": "67877799-459b-4aa6-a131-d95e81f43812",
   "metadata": {},
   "outputs": [],
   "source": [
    "import keras  #[2]\n"
   ]
  },
  {
   "cell_type": "code",
   "execution_count": null,
   "id": "d6131d5b-7f5d-4c1d-ad82-df2f4a807ed3",
   "metadata": {},
   "outputs": [],
   "source": []
  },
  {
   "cell_type": "markdown",
   "id": "8ff3ba51-d730-4e6d-ba86-8347bb277438",
   "metadata": {},
   "source": [
    "### References\n",
    "https://keras.io/examples/timeseries/timeseries_anomaly_detection/\n",
    "https://techvidvan.com/tutorials/keras-installation/\n",
    "\n",
    "https://www.kaggle.com/code/andreshg/timeseries-analysis-a-complete-guide\n"
   ]
  }
 ],
 "metadata": {
  "kernelspec": {
   "display_name": "Python 3 (ipykernel)",
   "language": "python",
   "name": "python3"
  },
  "language_info": {
   "codemirror_mode": {
    "name": "ipython",
    "version": 3
   },
   "file_extension": ".py",
   "mimetype": "text/x-python",
   "name": "python",
   "nbconvert_exporter": "python",
   "pygments_lexer": "ipython3",
   "version": "3.9.13"
  }
 },
 "nbformat": 4,
 "nbformat_minor": 5
}
