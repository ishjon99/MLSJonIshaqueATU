{
 "cells": [
  {
   "cell_type": "markdown",
   "metadata": {},
   "source": [
    "# An Evaluation of Time Series Anomaly Detection Using Keras\n",
    "## Jon Ishaque G00398244\n",
    "## Machine Learning and Statistics\n",
    "## HDip in Computing with Data Analytics\n",
    "## Atlantic Technical University\n",
    "\n",
    "***\n",
    "\n",
    "https://keras.io/examples/timeseries/timeseries_anomaly_detection/"
   ]
  },
  {
   "cell_type": "markdown",
   "metadata": {},
   "source": [
    "## 1. Introduction\n",
    "\n",
    "\"Anomaly detection addresses the problem of identifying points and/or patterns that do not conform to an expected sense of normality in a dataset\". (Singh and Olinsky, 2017). This note notebook attempts to explain the keras timesseries_anomaly_detection model. \n",
    "\n",
    "The notebook will explain the data used in the notebook, how the preprocessing of the data - preparing it for the model - including an explanation of time windows. The neural network an anev"
   ]
  },
  {
   "cell_type": "code",
   "execution_count": 1,
   "metadata": {},
   "outputs": [],
   "source": [
    "#Numerical arrays and functions\n",
    "import numpy as np\n",
    "\n",
    "#Spreadsheet-like Data Frames\n",
    "import pandas as pd\n",
    "\n",
    "#Creating Neural Networks\n",
    "import tensorflow.keras as keras\n",
    "\n",
    "#layers of neural networks?\n",
    "from tensorflow.keras import layers\n",
    "#Python plotting library\n",
    "from matplotlib import pyplot as plt"
   ]
  },
  {
   "cell_type": "code",
   "execution_count": null,
   "metadata": {},
   "outputs": [],
   "source": []
  },
  {
   "cell_type": "markdown",
   "metadata": {},
   "source": [
    "## 2. Data\n",
    "\n",
    "***\n",
    "\n",
    "https://www.kaggle.com/datasets/boltzmannbrain/nab\n",
    "\n",
    "https://github.com/numenta/NAB\n",
    "\n",
    "#also shows best methods for datasets\n",
    "what is standard profile\n",
    "reward low fp\n",
    "rewand low fn?\n",
    "\n",
    "\"Anomaly detection addresses the problem of identifying points and/or patterns that do not conform to an expected sense of normality in a dataset\". (Singh and Olinsky, 2017)\n",
    "This evaluation will us the Numenta Anomaly Benchmark(NAB) dataset. The datasets contains labelled anomolous periods of behaviour with both artificial and real data to enable anomaly detection benchmarking. That is to say, these datasets can be used to calibrate anomaly detection algorithms. This demonstration will use the __art_daily_small_noise__ dataset and the __art_daily_jumpsup__ data set. The art indicates this is artificial data and the daily that we are looking the time series is data over one day and the timestamp indicates 5 minute intervals. Small noise suggest that some background noise has been added. Jumps_up is the data set with the anomaly. The values have 10 or 15 decimal places, but they are artificial, so the degree of accuracy has no real meaning. (The no noise dataset has no decimal places, so maybe this was an air temperature simulation)"
   ]
  },
  {
   "cell_type": "markdown",
   "metadata": {},
   "source": [
    "#### 2.1 Accessing the data"
   ]
  },
  {
   "cell_type": "code",
   "execution_count": 2,
   "metadata": {},
   "outputs": [],
   "source": [
    "# Get the root URL for ease of handling and to ease presentation\n",
    "root_url = 'https://raw.githubusercontent.com/numenta/NAB/master/data/'\n",
    "\n",
    "#Create the url for the data file without anomaly.\n",
    "\n",
    "no_anomaly_url = root_url + 'artificialNoAnomaly/art_daily_small_noise.csv'\n",
    "\n",
    "#Create the url for the data file with anomaly.\n",
    "with_anomaly_url = root_url + 'artificialWithAnomaly/art_daily_jumpsup.csv'"
   ]
  },
  {
   "cell_type": "code",
   "execution_count": 3,
   "metadata": {},
   "outputs": [
    {
     "data": {
      "text/plain": [
       "'https://raw.githubusercontent.com/numenta/NAB/master/data/artificialNoAnomaly/art_daily_small_noise.csv'"
      ]
     },
     "execution_count": 3,
     "metadata": {},
     "output_type": "execute_result"
    }
   ],
   "source": [
    "no_anomaly_url"
   ]
  },
  {
   "cell_type": "code",
   "execution_count": 4,
   "metadata": {},
   "outputs": [
    {
     "data": {
      "text/plain": [
       "'https://raw.githubusercontent.com/numenta/NAB/master/data/artificialWithAnomaly/art_daily_jumpsup.csv'"
      ]
     },
     "execution_count": 4,
     "metadata": {},
     "output_type": "execute_result"
    }
   ],
   "source": [
    "with_anomaly_url"
   ]
  },
  {
   "cell_type": "markdown",
   "metadata": {},
   "source": [
    "Read in small noise no anomally into a PANDAS data frame: df_small_noise"
   ]
  },
  {
   "cell_type": "code",
   "execution_count": 5,
   "metadata": {},
   "outputs": [],
   "source": [
    "# first line is column headers, use 'timestamp' as index column\n",
    "df_small_noise = pd.read_csv(no_anomaly_url, parse_dates=True, index_col=\"timestamp\")"
   ]
  },
  {
   "cell_type": "markdown",
   "metadata": {},
   "source": [
    "Read in daily_jumps up data set into a PANDAS data frame: df_daily_jumpsup"
   ]
  },
  {
   "cell_type": "code",
   "execution_count": 6,
   "metadata": {},
   "outputs": [],
   "source": [
    "# first line is column headers, use 'timestamp' as index column\n",
    "df_daily_jumpsup = pd.read_csv(with_anomaly_url, parse_dates=True, index_col=\"timestamp\")"
   ]
  },
  {
   "cell_type": "markdown",
   "metadata": {},
   "source": [
    "#### 2.2 Investigate the small noise data set.\n",
    "\n",
    "This is the timeseries data without an anomaly. "
   ]
  },
  {
   "cell_type": "code",
   "execution_count": 7,
   "metadata": {},
   "outputs": [
    {
     "data": {
      "text/html": [
       "<div>\n",
       "<style scoped>\n",
       "    .dataframe tbody tr th:only-of-type {\n",
       "        vertical-align: middle;\n",
       "    }\n",
       "\n",
       "    .dataframe tbody tr th {\n",
       "        vertical-align: top;\n",
       "    }\n",
       "\n",
       "    .dataframe thead th {\n",
       "        text-align: right;\n",
       "    }\n",
       "</style>\n",
       "<table border=\"1\" class=\"dataframe\">\n",
       "  <thead>\n",
       "    <tr style=\"text-align: right;\">\n",
       "      <th></th>\n",
       "      <th>value</th>\n",
       "    </tr>\n",
       "    <tr>\n",
       "      <th>timestamp</th>\n",
       "      <th></th>\n",
       "    </tr>\n",
       "  </thead>\n",
       "  <tbody>\n",
       "    <tr>\n",
       "      <th>2014-04-01 00:00:00</th>\n",
       "      <td>18.324919</td>\n",
       "    </tr>\n",
       "    <tr>\n",
       "      <th>2014-04-01 00:05:00</th>\n",
       "      <td>21.970327</td>\n",
       "    </tr>\n",
       "    <tr>\n",
       "      <th>2014-04-01 00:10:00</th>\n",
       "      <td>18.624806</td>\n",
       "    </tr>\n",
       "    <tr>\n",
       "      <th>2014-04-01 00:15:00</th>\n",
       "      <td>21.953684</td>\n",
       "    </tr>\n",
       "    <tr>\n",
       "      <th>2014-04-01 00:20:00</th>\n",
       "      <td>21.909120</td>\n",
       "    </tr>\n",
       "  </tbody>\n",
       "</table>\n",
       "</div>"
      ],
      "text/plain": [
       "                         value\n",
       "timestamp                     \n",
       "2014-04-01 00:00:00  18.324919\n",
       "2014-04-01 00:05:00  21.970327\n",
       "2014-04-01 00:10:00  18.624806\n",
       "2014-04-01 00:15:00  21.953684\n",
       "2014-04-01 00:20:00  21.909120"
      ]
     },
     "execution_count": 7,
     "metadata": {},
     "output_type": "execute_result"
    }
   ],
   "source": [
    "# display top of small noise data set\n",
    "df_small_noise.head()\n"
   ]
  },
  {
   "cell_type": "markdown",
   "metadata": {},
   "source": [
    "Describe the small noise data frame\n",
    "\n",
    "samples are taken every 5 minutes\n",
    "\n",
    "24 * 60/5 = 288 samples per day\n",
    "\n",
    "288 * 14 day period \n",
    "\n",
    " = 4032 samples"
   ]
  },
  {
   "cell_type": "code",
   "execution_count": 8,
   "metadata": {},
   "outputs": [
    {
     "data": {
      "text/html": [
       "<div>\n",
       "<style scoped>\n",
       "    .dataframe tbody tr th:only-of-type {\n",
       "        vertical-align: middle;\n",
       "    }\n",
       "\n",
       "    .dataframe tbody tr th {\n",
       "        vertical-align: top;\n",
       "    }\n",
       "\n",
       "    .dataframe thead th {\n",
       "        text-align: right;\n",
       "    }\n",
       "</style>\n",
       "<table border=\"1\" class=\"dataframe\">\n",
       "  <thead>\n",
       "    <tr style=\"text-align: right;\">\n",
       "      <th></th>\n",
       "      <th>value</th>\n",
       "    </tr>\n",
       "  </thead>\n",
       "  <tbody>\n",
       "    <tr>\n",
       "      <th>count</th>\n",
       "      <td>4032.000000</td>\n",
       "    </tr>\n",
       "    <tr>\n",
       "      <th>mean</th>\n",
       "      <td>42.438353</td>\n",
       "    </tr>\n",
       "    <tr>\n",
       "      <th>std</th>\n",
       "      <td>28.077122</td>\n",
       "    </tr>\n",
       "    <tr>\n",
       "      <th>min</th>\n",
       "      <td>18.000964</td>\n",
       "    </tr>\n",
       "    <tr>\n",
       "      <th>25%</th>\n",
       "      <td>19.841390</td>\n",
       "    </tr>\n",
       "    <tr>\n",
       "      <th>50%</th>\n",
       "      <td>21.608487</td>\n",
       "    </tr>\n",
       "    <tr>\n",
       "      <th>75%</th>\n",
       "      <td>75.450282</td>\n",
       "    </tr>\n",
       "    <tr>\n",
       "      <th>max</th>\n",
       "      <td>87.976128</td>\n",
       "    </tr>\n",
       "  </tbody>\n",
       "</table>\n",
       "</div>"
      ],
      "text/plain": [
       "             value\n",
       "count  4032.000000\n",
       "mean     42.438353\n",
       "std      28.077122\n",
       "min      18.000964\n",
       "25%      19.841390\n",
       "50%      21.608487\n",
       "75%      75.450282\n",
       "max      87.976128"
      ]
     },
     "execution_count": 8,
     "metadata": {},
     "output_type": "execute_result"
    }
   ],
   "source": [
    "df_small_noise.describe()"
   ]
  },
  {
   "cell_type": "markdown",
   "metadata": {},
   "source": [
    "Look at first row of small noise dataframe\n",
    "PANDAS appears to round to 6 places the value when looking at the row"
   ]
  },
  {
   "cell_type": "code",
   "execution_count": 9,
   "metadata": {},
   "outputs": [
    {
     "data": {
      "text/plain": [
       "value    18.324919\n",
       "Name: 2014-04-01 00:00:00, dtype: float64"
      ]
     },
     "execution_count": 9,
     "metadata": {},
     "output_type": "execute_result"
    }
   ],
   "source": [
    "df_small_noise.iloc[0]"
   ]
  },
  {
   "cell_type": "markdown",
   "metadata": {},
   "source": [
    "Look at value at first row of small_noise dataframe directly as a value, the value is rounded to 10\n",
    "on colname, __value__.\n"
   ]
  },
  {
   "cell_type": "code",
   "execution_count": 10,
   "metadata": {},
   "outputs": [
    {
     "data": {
      "text/plain": [
       "18.3249185392"
      ]
     },
     "execution_count": 10,
     "metadata": {},
     "output_type": "execute_result"
    }
   ],
   "source": [
    "df_small_noise.iloc[0]['value']"
   ]
  },
  {
   "cell_type": "markdown",
   "metadata": {},
   "source": [
    "or from PANDAS values column 0"
   ]
  },
  {
   "cell_type": "code",
   "execution_count": 11,
   "metadata": {},
   "outputs": [
    {
     "data": {
      "text/plain": [
       "18.3249185392"
      ]
     },
     "execution_count": 11,
     "metadata": {},
     "output_type": "execute_result"
    }
   ],
   "source": [
    "df_small_noise.iloc[0].values[0]"
   ]
  },
  {
   "cell_type": "markdown",
   "metadata": {},
   "source": [
    "Muliply by 10e12 to see if PANDAS or Jupyter has actually rounded the numbers"
   ]
  },
  {
   "cell_type": "code",
   "execution_count": 12,
   "metadata": {},
   "outputs": [
    {
     "data": {
      "text/plain": [
       "1832491853919999.8"
      ]
     },
     "execution_count": 12,
     "metadata": {},
     "output_type": "execute_result"
    }
   ],
   "source": [
    "df_small_noise.iloc[0].values[0] * 10e13"
   ]
  },
  {
   "cell_type": "markdown",
   "metadata": {},
   "source": [
    "Shape of small noise dataframe is 4032 rows by 2 columns"
   ]
  },
  {
   "cell_type": "code",
   "execution_count": 13,
   "metadata": {},
   "outputs": [
    {
     "data": {
      "text/plain": [
       "(4032, 1)"
      ]
     },
     "execution_count": 13,
     "metadata": {},
     "output_type": "execute_result"
    }
   ],
   "source": [
    "df_small_noise.shape"
   ]
  },
  {
   "cell_type": "markdown",
   "metadata": {},
   "source": [
    "Visualising the df_small_noise data frame (no anomaly)\n",
    "The 14 day time series shows data values at 5 minute intervals. The values increase at around 9.00am each day and fall off around 6.00pm each day. And indeed there is no visual anomaly.\n",
    "\n",
    "This will be the training dataset."
   ]
  },
  {
   "cell_type": "code",
   "execution_count": 14,
   "metadata": {},
   "outputs": [
    {
     "data": {
      "image/png": "[encoded data removed]",
      "text/plain": [
       "<Figure size 1000x400 with 1 Axes>"
      ]
     },
     "metadata": {},
     "output_type": "display_data"
    }
   ],
   "source": [
    "# use plt to make the plot size\n",
    "fig, ax = plt.subplots(figsize=(10,4))\n",
    "\n",
    "# Use PANDAS to plot small noise data frame (no anomalies).\n",
    "\n",
    "df_small_noise.plot(legend=False, ax=ax); #semi colon hides return value!"
   ]
  },
  {
   "cell_type": "markdown",
   "metadata": {},
   "source": [
    "#### 2.2 Investigate the daily jumps dataset\n",
    "This is the data set where we expect an anomaly, to be detected by keras tensor flow."
   ]
  },
  {
   "cell_type": "code",
   "execution_count": 15,
   "metadata": {},
   "outputs": [
    {
     "data": {
      "text/html": [
       "<div>\n",
       "<style scoped>\n",
       "    .dataframe tbody tr th:only-of-type {\n",
       "        vertical-align: middle;\n",
       "    }\n",
       "\n",
       "    .dataframe tbody tr th {\n",
       "        vertical-align: top;\n",
       "    }\n",
       "\n",
       "    .dataframe thead th {\n",
       "        text-align: right;\n",
       "    }\n",
       "</style>\n",
       "<table border=\"1\" class=\"dataframe\">\n",
       "  <thead>\n",
       "    <tr style=\"text-align: right;\">\n",
       "      <th></th>\n",
       "      <th>value</th>\n",
       "    </tr>\n",
       "    <tr>\n",
       "      <th>timestamp</th>\n",
       "      <th></th>\n",
       "    </tr>\n",
       "  </thead>\n",
       "  <tbody>\n",
       "    <tr>\n",
       "      <th>2014-04-01 00:00:00</th>\n",
       "      <td>19.761252</td>\n",
       "    </tr>\n",
       "    <tr>\n",
       "      <th>2014-04-01 00:05:00</th>\n",
       "      <td>20.500833</td>\n",
       "    </tr>\n",
       "    <tr>\n",
       "      <th>2014-04-01 00:10:00</th>\n",
       "      <td>19.961641</td>\n",
       "    </tr>\n",
       "    <tr>\n",
       "      <th>2014-04-01 00:15:00</th>\n",
       "      <td>21.490266</td>\n",
       "    </tr>\n",
       "    <tr>\n",
       "      <th>2014-04-01 00:20:00</th>\n",
       "      <td>20.187739</td>\n",
       "    </tr>\n",
       "  </tbody>\n",
       "</table>\n",
       "</div>"
      ],
      "text/plain": [
       "                         value\n",
       "timestamp                     \n",
       "2014-04-01 00:00:00  19.761252\n",
       "2014-04-01 00:05:00  20.500833\n",
       "2014-04-01 00:10:00  19.961641\n",
       "2014-04-01 00:15:00  21.490266\n",
       "2014-04-01 00:20:00  20.187739"
      ]
     },
     "execution_count": 15,
     "metadata": {},
     "output_type": "execute_result"
    }
   ],
   "source": [
    "# display the top 5 rows of the daily_jumps dataset\n",
    "df_daily_jumpsup.head()"
   ]
  },
  {
   "cell_type": "markdown",
   "metadata": {},
   "source": [
    "Like the small noise dataset\n",
    "samples are taken every 5 minutes\n",
    "\n",
    "24 * 60/5 = 288 samples per day\n",
    "\n",
    "288 * 14 day period\n",
    "\n",
    "= 4032 samples\n",
    "\n",
    "note the max value in the jumps up data set is 164.947481, amost 4 times the mean, the max is twice the max in of the no anomaly dataset but min of both data sets is around 18. The demonstration may well show the anomaly is above the normal of the of the  anomaly data set, rather than below it."
   ]
  },
  {
   "cell_type": "code",
   "execution_count": 16,
   "metadata": {},
   "outputs": [
    {
     "data": {
      "text/html": [
       "<div>\n",
       "<style scoped>\n",
       "    .dataframe tbody tr th:only-of-type {\n",
       "        vertical-align: middle;\n",
       "    }\n",
       "\n",
       "    .dataframe tbody tr th {\n",
       "        vertical-align: top;\n",
       "    }\n",
       "\n",
       "    .dataframe thead th {\n",
       "        text-align: right;\n",
       "    }\n",
       "</style>\n",
       "<table border=\"1\" class=\"dataframe\">\n",
       "  <thead>\n",
       "    <tr style=\"text-align: right;\">\n",
       "      <th></th>\n",
       "      <th>value</th>\n",
       "    </tr>\n",
       "  </thead>\n",
       "  <tbody>\n",
       "    <tr>\n",
       "      <th>count</th>\n",
       "      <td>4032.000000</td>\n",
       "    </tr>\n",
       "    <tr>\n",
       "      <th>mean</th>\n",
       "      <td>44.494254</td>\n",
       "    </tr>\n",
       "    <tr>\n",
       "      <th>std</th>\n",
       "      <td>32.432473</td>\n",
       "    </tr>\n",
       "    <tr>\n",
       "      <th>min</th>\n",
       "      <td>18.001010</td>\n",
       "    </tr>\n",
       "    <tr>\n",
       "      <th>25%</th>\n",
       "      <td>19.991382</td>\n",
       "    </tr>\n",
       "    <tr>\n",
       "      <th>50%</th>\n",
       "      <td>21.648503</td>\n",
       "    </tr>\n",
       "    <tr>\n",
       "      <th>75%</th>\n",
       "      <td>76.435943</td>\n",
       "    </tr>\n",
       "    <tr>\n",
       "      <th>max</th>\n",
       "      <td>164.947481</td>\n",
       "    </tr>\n",
       "  </tbody>\n",
       "</table>\n",
       "</div>"
      ],
      "text/plain": [
       "             value\n",
       "count  4032.000000\n",
       "mean     44.494254\n",
       "std      32.432473\n",
       "min      18.001010\n",
       "25%      19.991382\n",
       "50%      21.648503\n",
       "75%      76.435943\n",
       "max     164.947481"
      ]
     },
     "execution_count": 16,
     "metadata": {},
     "output_type": "execute_result"
    }
   ],
   "source": [
    "df_daily_jumpsup.describe()"
   ]
  },
  {
   "cell_type": "markdown",
   "metadata": {},
   "source": [
    "Look at first row of daily jump dataframe"
   ]
  },
  {
   "cell_type": "code",
   "execution_count": 17,
   "metadata": {},
   "outputs": [
    {
     "data": {
      "text/plain": [
       "value    19.761252\n",
       "Name: 2014-04-01 00:00:00, dtype: float64"
      ]
     },
     "execution_count": 17,
     "metadata": {},
     "output_type": "execute_result"
    }
   ],
   "source": [
    "df_daily_jumpsup.iloc[0]"
   ]
  },
  {
   "cell_type": "markdown",
   "metadata": {},
   "source": [
    "Look at the first value at first row of daily jump dataframe"
   ]
  },
  {
   "cell_type": "code",
   "execution_count": 18,
   "metadata": {},
   "outputs": [
    {
     "data": {
      "text/plain": [
       "19.761251903"
      ]
     },
     "execution_count": 18,
     "metadata": {},
     "output_type": "execute_result"
    }
   ],
   "source": [
    "df_daily_jumpsup.iloc[0]['value']"
   ]
  },
  {
   "cell_type": "markdown",
   "metadata": {},
   "source": [
    "Shape of daily jump set is 4032 rows by 2 columns. "
   ]
  },
  {
   "cell_type": "code",
   "execution_count": 19,
   "metadata": {},
   "outputs": [
    {
     "data": {
      "text/plain": [
       "(4032, 1)"
      ]
     },
     "execution_count": 19,
     "metadata": {},
     "output_type": "execute_result"
    }
   ],
   "source": [
    "df_daily_jumpsup.shape"
   ]
  },
  {
   "cell_type": "markdown",
   "metadata": {},
   "source": [
    "Visualising the daily jump data set. The 14 day time series shows values at 5 minute intervals. The values increase at around 9.00am each day and fall off around 6.00pm each day. Visually, there is clear an anomoly on day 11 in the daytime"
   ]
  },
  {
   "cell_type": "code",
   "execution_count": 20,
   "metadata": {},
   "outputs": [
    {
     "data": {
      "image/png": "[encoded data removed]",
      "text/plain": [
       "<Figure size 1000x400 with 1 Axes>"
      ]
     },
     "metadata": {},
     "output_type": "display_data"
    }
   ],
   "source": [
    "# use plt to visualise the dataset \n",
    "fig, ax = plt.subplots(figsize=(10,4))\n",
    "\n",
    "# Use pandas to plot data frame.\n",
    "df_daily_jumpsup.plot(legend=False, ax=ax);"
   ]
  },
  {
   "cell_type": "markdown",
   "metadata": {},
   "source": [
    "## 3. Preprocessing\n",
    "In this section we are preparing the data sets.\n",
    "***"
   ]
  },
  {
   "cell_type": "markdown",
   "metadata": {},
   "source": [
    "#### 3.1 Normalising and standardising the data\n",
    "\n",
    "Get the mean value from the small noise/training dataset.\n",
    "\n",
    "Prepare training data, get data values from the training timeseries data file and normalize the value data. subtract by the mean training value and divide by the training standard deviation. This is where unites for data sets may be of different scales (or ends of the spectrum). This maintains the relavive difference between value but centres values around zero and the standard deviation is one.\n",
    "\n",
    "https://towardsai.net/p/data-science/how-when-and-why-should-you-normalize-standardize-rescale-your-data-3f083def38ff#:~:text=Normalization%20is%20useful%20when%20your,Gaussian%20(bell%20curve)%20distribution."
   ]
  },
  {
   "cell_type": "code",
   "execution_count": 21,
   "metadata": {},
   "outputs": [
    {
     "data": {
      "text/plain": [
       "value    42.438353\n",
       "dtype: float64"
      ]
     },
     "execution_count": 21,
     "metadata": {},
     "output_type": "execute_result"
    }
   ],
   "source": [
    "#get mean\n",
    "train_mean = df_small_noise.mean()\n",
    "#print mean\n",
    "train_mean"
   ]
  },
  {
   "cell_type": "markdown",
   "metadata": {},
   "source": [
    "Get the standard deviation for the small noise/training data set"
   ]
  },
  {
   "cell_type": "code",
   "execution_count": 22,
   "metadata": {},
   "outputs": [
    {
     "data": {
      "text/plain": [
       "value    28.077122\n",
       "dtype: float64"
      ]
     },
     "execution_count": 22,
     "metadata": {},
     "output_type": "execute_result"
    }
   ],
   "source": [
    "train_std = df_small_noise.std()\n",
    "\n",
    "train_std"
   ]
  },
  {
   "cell_type": "markdown",
   "metadata": {},
   "source": [
    "Prepare training data, get data values from the training timeseries data file and normalize the value data.\n",
    "subtract by the mean training value and divide by the training standard deviation. This is \n",
    "\n",
    "https://towardsai.net/p/data-science/how-when-and-why-should-you-normalize-standardize-rescale-your-data-3f083def38ff#:~:text=Normalization%20is%20useful%20when%20your,Gaussian%20(bell%20curve)%20distribution."
   ]
  },
  {
   "cell_type": "code",
   "execution_count": 23,
   "metadata": {},
   "outputs": [],
   "source": [
    "# subtract by mean of values and div by mean mean to centre on zero. scale down by bringing all scales between -.5 and 1.5\n",
    "\n",
    "df_train_vals = (df_small_noise - train_mean) / train_std"
   ]
  },
  {
   "cell_type": "code",
   "execution_count": 24,
   "metadata": {},
   "outputs": [
    {
     "data": {
      "text/plain": [
       "(4032, 1)"
      ]
     },
     "execution_count": 24,
     "metadata": {},
     "output_type": "execute_result"
    }
   ],
   "source": [
    "# shape now 4032 rows by 4 cols\n",
    "df_train_vals.shape\n"
   ]
  },
  {
   "cell_type": "markdown",
   "metadata": {},
   "source": [
    "Display values at first row"
   ]
  },
  {
   "cell_type": "code",
   "execution_count": 25,
   "metadata": {},
   "outputs": [
    {
     "data": {
      "text/plain": [
       "value   -0.858829\n",
       "Name: 2014-04-01 00:00:00, dtype: float64"
      ]
     },
     "execution_count": 25,
     "metadata": {},
     "output_type": "execute_result"
    }
   ],
   "source": [
    "df_train_vals.iloc[0]\n"
   ]
  },
  {
   "cell_type": "markdown",
   "metadata": {},
   "source": [
    "Optional show the data"
   ]
  },
  {
   "cell_type": "code",
   "execution_count": 26,
   "metadata": {},
   "outputs": [
    {
     "data": {
      "text/html": [
       "<div>\n",
       "<style scoped>\n",
       "    .dataframe tbody tr th:only-of-type {\n",
       "        vertical-align: middle;\n",
       "    }\n",
       "\n",
       "    .dataframe tbody tr th {\n",
       "        vertical-align: top;\n",
       "    }\n",
       "\n",
       "    .dataframe thead th {\n",
       "        text-align: right;\n",
       "    }\n",
       "</style>\n",
       "<table border=\"1\" class=\"dataframe\">\n",
       "  <thead>\n",
       "    <tr style=\"text-align: right;\">\n",
       "      <th></th>\n",
       "      <th>value</th>\n",
       "    </tr>\n",
       "    <tr>\n",
       "      <th>timestamp</th>\n",
       "      <th></th>\n",
       "    </tr>\n",
       "  </thead>\n",
       "  <tbody>\n",
       "    <tr>\n",
       "      <th>2014-04-01 00:00:00</th>\n",
       "      <td>-0.858829</td>\n",
       "    </tr>\n",
       "    <tr>\n",
       "      <th>2014-04-01 00:05:00</th>\n",
       "      <td>-0.728993</td>\n",
       "    </tr>\n",
       "    <tr>\n",
       "      <th>2014-04-01 00:10:00</th>\n",
       "      <td>-0.848148</td>\n",
       "    </tr>\n",
       "    <tr>\n",
       "      <th>2014-04-01 00:15:00</th>\n",
       "      <td>-0.729586</td>\n",
       "    </tr>\n",
       "    <tr>\n",
       "      <th>2014-04-01 00:20:00</th>\n",
       "      <td>-0.731173</td>\n",
       "    </tr>\n",
       "    <tr>\n",
       "      <th>...</th>\n",
       "      <td>...</td>\n",
       "    </tr>\n",
       "    <tr>\n",
       "      <th>2014-04-14 23:35:00</th>\n",
       "      <td>-0.791647</td>\n",
       "    </tr>\n",
       "    <tr>\n",
       "      <th>2014-04-14 23:40:00</th>\n",
       "      <td>-0.780255</td>\n",
       "    </tr>\n",
       "    <tr>\n",
       "      <th>2014-04-14 23:45:00</th>\n",
       "      <td>-0.833640</td>\n",
       "    </tr>\n",
       "    <tr>\n",
       "      <th>2014-04-14 23:50:00</th>\n",
       "      <td>-0.735102</td>\n",
       "    </tr>\n",
       "    <tr>\n",
       "      <th>2014-04-14 23:55:00</th>\n",
       "      <td>-0.846089</td>\n",
       "    </tr>\n",
       "  </tbody>\n",
       "</table>\n",
       "<p>4032 rows × 1 columns</p>\n",
       "</div>"
      ],
      "text/plain": [
       "                        value\n",
       "timestamp                    \n",
       "2014-04-01 00:00:00 -0.858829\n",
       "2014-04-01 00:05:00 -0.728993\n",
       "2014-04-01 00:10:00 -0.848148\n",
       "2014-04-01 00:15:00 -0.729586\n",
       "2014-04-01 00:20:00 -0.731173\n",
       "...                       ...\n",
       "2014-04-14 23:35:00 -0.791647\n",
       "2014-04-14 23:40:00 -0.780255\n",
       "2014-04-14 23:45:00 -0.833640\n",
       "2014-04-14 23:50:00 -0.735102\n",
       "2014-04-14 23:55:00 -0.846089\n",
       "\n",
       "[4032 rows x 1 columns]"
      ]
     },
     "metadata": {},
     "output_type": "display_data"
    }
   ],
   "source": [
    "display(df_train_vals)"
   ]
  },
  {
   "cell_type": "markdown",
   "metadata": {},
   "source": [
    "#### 3.1.1 Add columns to the the small df_small noise.\n",
    "\n",
    "This to juxtapose the changes we have made with the original values.\n",
    "\n",
    "Add a new column 'less mean' to the df_small noise"
   ]
  },
  {
   "cell_type": "code",
   "execution_count": 27,
   "metadata": {},
   "outputs": [],
   "source": [
    "# add less mean col\n",
    "df_small_noise['less_mean'] = df_small_noise['value'] - df_small_noise['value'].mean()\n"
   ]
  },
  {
   "cell_type": "markdown",
   "metadata": {},
   "source": [
    "Add a new column, 'div_std' small noise minus mean divided by the std"
   ]
  },
  {
   "cell_type": "code",
   "execution_count": 28,
   "metadata": {},
   "outputs": [],
   "source": [
    "\n",
    "df_small_noise['div_std'] = df_small_noise['less_mean'] / df_small_noise['value'].std()"
   ]
  },
  {
   "cell_type": "markdown",
   "metadata": {},
   "source": [
    "This enables us to see what we have done with data before we assigned it to the df_train_vals data frame"
   ]
  },
  {
   "cell_type": "code",
   "execution_count": 29,
   "metadata": {},
   "outputs": [
    {
     "data": {
      "text/html": [
       "<div>\n",
       "<style scoped>\n",
       "    .dataframe tbody tr th:only-of-type {\n",
       "        vertical-align: middle;\n",
       "    }\n",
       "\n",
       "    .dataframe tbody tr th {\n",
       "        vertical-align: top;\n",
       "    }\n",
       "\n",
       "    .dataframe thead th {\n",
       "        text-align: right;\n",
       "    }\n",
       "</style>\n",
       "<table border=\"1\" class=\"dataframe\">\n",
       "  <thead>\n",
       "    <tr style=\"text-align: right;\">\n",
       "      <th></th>\n",
       "      <th>value</th>\n",
       "      <th>less_mean</th>\n",
       "      <th>div_std</th>\n",
       "    </tr>\n",
       "    <tr>\n",
       "      <th>timestamp</th>\n",
       "      <th></th>\n",
       "      <th></th>\n",
       "      <th></th>\n",
       "    </tr>\n",
       "  </thead>\n",
       "  <tbody>\n",
       "    <tr>\n",
       "      <th>2014-04-01 00:00:00</th>\n",
       "      <td>18.324919</td>\n",
       "      <td>-24.113435</td>\n",
       "      <td>-0.858829</td>\n",
       "    </tr>\n",
       "    <tr>\n",
       "      <th>2014-04-01 00:05:00</th>\n",
       "      <td>21.970327</td>\n",
       "      <td>-20.468026</td>\n",
       "      <td>-0.728993</td>\n",
       "    </tr>\n",
       "    <tr>\n",
       "      <th>2014-04-01 00:10:00</th>\n",
       "      <td>18.624806</td>\n",
       "      <td>-23.813547</td>\n",
       "      <td>-0.848148</td>\n",
       "    </tr>\n",
       "    <tr>\n",
       "      <th>2014-04-01 00:15:00</th>\n",
       "      <td>21.953684</td>\n",
       "      <td>-20.484669</td>\n",
       "      <td>-0.729586</td>\n",
       "    </tr>\n",
       "    <tr>\n",
       "      <th>2014-04-01 00:20:00</th>\n",
       "      <td>21.909120</td>\n",
       "      <td>-20.529234</td>\n",
       "      <td>-0.731173</td>\n",
       "    </tr>\n",
       "    <tr>\n",
       "      <th>...</th>\n",
       "      <td>...</td>\n",
       "      <td>...</td>\n",
       "      <td>...</td>\n",
       "    </tr>\n",
       "    <tr>\n",
       "      <th>2014-04-14 23:35:00</th>\n",
       "      <td>20.211195</td>\n",
       "      <td>-22.227159</td>\n",
       "      <td>-0.791647</td>\n",
       "    </tr>\n",
       "    <tr>\n",
       "      <th>2014-04-14 23:40:00</th>\n",
       "      <td>20.531041</td>\n",
       "      <td>-21.907313</td>\n",
       "      <td>-0.780255</td>\n",
       "    </tr>\n",
       "    <tr>\n",
       "      <th>2014-04-14 23:45:00</th>\n",
       "      <td>19.032127</td>\n",
       "      <td>-23.406226</td>\n",
       "      <td>-0.833640</td>\n",
       "    </tr>\n",
       "    <tr>\n",
       "      <th>2014-04-14 23:50:00</th>\n",
       "      <td>21.798801</td>\n",
       "      <td>-20.639552</td>\n",
       "      <td>-0.735102</td>\n",
       "    </tr>\n",
       "    <tr>\n",
       "      <th>2014-04-14 23:55:00</th>\n",
       "      <td>18.682620</td>\n",
       "      <td>-23.755733</td>\n",
       "      <td>-0.846089</td>\n",
       "    </tr>\n",
       "  </tbody>\n",
       "</table>\n",
       "<p>4032 rows × 3 columns</p>\n",
       "</div>"
      ],
      "text/plain": [
       "                         value  less_mean   div_std\n",
       "timestamp                                          \n",
       "2014-04-01 00:00:00  18.324919 -24.113435 -0.858829\n",
       "2014-04-01 00:05:00  21.970327 -20.468026 -0.728993\n",
       "2014-04-01 00:10:00  18.624806 -23.813547 -0.848148\n",
       "2014-04-01 00:15:00  21.953684 -20.484669 -0.729586\n",
       "2014-04-01 00:20:00  21.909120 -20.529234 -0.731173\n",
       "...                        ...        ...       ...\n",
       "2014-04-14 23:35:00  20.211195 -22.227159 -0.791647\n",
       "2014-04-14 23:40:00  20.531041 -21.907313 -0.780255\n",
       "2014-04-14 23:45:00  19.032127 -23.406226 -0.833640\n",
       "2014-04-14 23:50:00  21.798801 -20.639552 -0.735102\n",
       "2014-04-14 23:55:00  18.682620 -23.755733 -0.846089\n",
       "\n",
       "[4032 rows x 3 columns]"
      ]
     },
     "execution_count": 29,
     "metadata": {},
     "output_type": "execute_result"
    }
   ],
   "source": [
    "df_small_noise"
   ]
  },
  {
   "cell_type": "markdown",
   "metadata": {},
   "source": [
    "Now get the mean of the 3 columns.\n",
    "\n",
    "The mean of __value minus mean__ and __mean of std__ will be almost zero\n",
    "\n"
   ]
  },
  {
   "cell_type": "code",
   "execution_count": 30,
   "metadata": {},
   "outputs": [
    {
     "data": {
      "text/plain": [
       "(42.438353335806646, -7.342627387941552e-14, -2.616541242931684e-15)"
      ]
     },
     "execution_count": 30,
     "metadata": {},
     "output_type": "execute_result"
    }
   ],
   "source": [
    "#get mean less mean, and mean div of std\n",
    "df_small_noise['value'].mean(), df_small_noise['less_mean'].mean(), df_small_noise['div_std'].mean()"
   ]
  },
  {
   "cell_type": "markdown",
   "metadata": {},
   "source": [
    "Now get the std of the three columns\n",
    "\n",
    "The std of mean minus mean will be, mean!\n",
    "\n",
    "The std of val divided by std will be 1."
   ]
  },
  {
   "cell_type": "code",
   "execution_count": 31,
   "metadata": {},
   "outputs": [
    {
     "data": {
      "text/plain": [
       "(28.077122281262515, 28.077122281262508, 1.0000000000000018)"
      ]
     },
     "execution_count": 31,
     "metadata": {},
     "output_type": "execute_result"
    }
   ],
   "source": [
    "df_small_noise['value'].std(), df_small_noise['less_mean'].std(), df_small_noise['div_std'].std()"
   ]
  },
  {
   "cell_type": "markdown",
   "metadata": {},
   "source": [
    "This demonstrates that the we have maintained the relationships between the values but std is 1.\n",
    "Below, we visualise the new df_train_vals array and observe it visually it is similar to the original df_small_noise plot. i.e. the range of this y axis is now between \n",
    "-.08 and 1.5. That the low values are closer to -.05 and the high values are closer to 1.5 suggests there are more low values than high values. "
   ]
  },
  {
   "cell_type": "code",
   "execution_count": 32,
   "metadata": {},
   "outputs": [
    {
     "data": {
      "image/png": "[encoded data removed]",
      "text/plain": [
       "<Figure size 1000x400 with 1 Axes>"
      ]
     },
     "metadata": {},
     "output_type": "display_data"
    }
   ],
   "source": [
    "fig, ax = plt.subplots(figsize=(10,4))\n",
    "\n",
    "# Use pandas to plot data frame\n",
    "df_train_vals.plot(legend=False, ax=ax);"
   ]
  },
  {
   "cell_type": "markdown",
   "metadata": {},
   "source": [
    "Prepare training data Get data values from the training timeseries data file and normalize the value data. We have a value for every 5 mins for 14 days.\n",
    "\n",
    "24 * 60 / 5 = 288 winows per day 288 * 14 = 4032 data points in total"
   ]
  },
  {
   "cell_type": "code",
   "execution_count": 33,
   "metadata": {},
   "outputs": [
    {
     "data": {
      "text/plain": [
       "(4032, 1)"
      ]
     },
     "execution_count": 33,
     "metadata": {},
     "output_type": "execute_result"
    }
   ],
   "source": [
    "# print number of training values\n",
    "df_train_vals.shape"
   ]
  },
  {
   "cell_type": "markdown",
   "metadata": {},
   "source": [
    "#### 3.1.2 Creating Windows"
   ]
  },
  {
   "cell_type": "markdown",
   "metadata": {},
   "source": [
    "We are going to slide this across the 4032 values\n",
    "because one window is one day with 288 samples.This could be useful because we are looking for change and patterns over time.  We already know there are 288 values taken every 5 minutes during the day so this is a good start. By creating windows we can look at data values within the window.\n",
    "\n",
    "\"We can divide the sequence into multiple input/output patterns called samples, where three time steps are used as input and one time step is used as output for the one-step prediction that is being learned.\"\n",
    "https://machinelearningmastery.com/how-to-develop-convolutional-neural-network-models-for-time-series-forecasting/\n",
    "\n",
    "In our demonstration we are using 288 steps as the input."
   ]
  },
  {
   "cell_type": "code",
   "execution_count": 34,
   "metadata": {},
   "outputs": [],
   "source": [
    "#This is the windows size we will use on the df_train_values\n",
    "\n",
    "window_size = 288"
   ]
  },
  {
   "cell_type": "markdown",
   "metadata": {},
   "source": [
    "#### 3.1.2.1 Dry run example with 3 step windows."
   ]
  },
  {
   "cell_type": "markdown",
   "metadata": {},
   "source": [
    "\n",
    "A Window example:\n",
    "Explains how the window works.\n",
    "In this example for the array L we will use a window size of 3,\n",
    "\n",
    "```python\n",
    "A list of values:\n",
    "[1, 1, 2, 4, 5, 6, 7, 1, 2, 3, 4, 5]\n",
    "window_size = 3\n",
    "1st window \n",
    "[1, 1, 2]\n",
    "\n",
    "2nd window \n",
    "[ 1, 2, 4]\n",
    "\n",
    "3rd window \n",
    "[2, 4, 5]\n",
    "\n",
    "etc\n",
    "[4, 5, 6]\n",
    "...\n",
    "\n",
    "Each window (list) as will be appended to another list.\n",
    "The final output will be:\n",
    "    [[1, 1, 2],[2, 4, 5],[4, 5, 6],[5, 6, 7],[6, 7, 1],[7, 1, 2],[1, 2, 3],[3, 4, 5]]\n",
    "```"
   ]
  },
  {
   "cell_type": "code",
   "execution_count": 35,
   "metadata": {},
   "outputs": [],
   "source": [
    "# The above example worked\n",
    "L = [1, 1, 2, 4, 5, 6, 7, 1, 2, 3, 4, 5]\n",
    "# Example window size.\n",
    "eg_win_size = 3\n",
    "# Length of L.\n",
    "#len(L)"
   ]
  },
  {
   "cell_type": "markdown",
   "metadata": {},
   "source": [
    "To get the number of windows lenght of values minus window size + 1"
   ]
  },
  {
   "cell_type": "code",
   "execution_count": 36,
   "metadata": {},
   "outputs": [
    {
     "data": {
      "text/plain": [
       "10"
      ]
     },
     "execution_count": 36,
     "metadata": {},
     "output_type": "execute_result"
    }
   ],
   "source": [
    "# Remove brackets.\n",
    "#The number of windows will be:\n",
    "len(L) - eg_win_size + 1"
   ]
  },
  {
   "cell_type": "code",
   "execution_count": 37,
   "metadata": {},
   "outputs": [
    {
     "data": {
      "text/plain": [
       "array([[1, 1, 2],\n",
       "       [1, 2, 4],\n",
       "       [2, 4, 5],\n",
       "       [4, 5, 6],\n",
       "       [5, 6, 7],\n",
       "       [6, 7, 1],\n",
       "       [7, 1, 2],\n",
       "       [1, 2, 3],\n",
       "       [2, 3, 4],\n",
       "       [3, 4, 5]])"
      ]
     },
     "execution_count": 37,
     "metadata": {},
     "output_type": "execute_result"
    }
   ],
   "source": [
    "# create array to store the windows\n",
    "eg_wins = []\n",
    "#append each window  to the new array\n",
    "#values at position in array and all values to val postion plus window size.\n",
    "for i in range(len(L) - eg_win_size + 1):\n",
    "    eg_wins.append(L[i:i + eg_win_size])\n",
    "# Convert to a 2d numpy array from wins.\n",
    "np.stack(eg_wins)"
   ]
  },
  {
   "cell_type": "code",
   "execution_count": null,
   "metadata": {},
   "outputs": [],
   "source": []
  },
  {
   "cell_type": "markdown",
   "metadata": {},
   "source": [
    "#### 3.1.2.2 Create windows for df_train_vals datafreame"
   ]
  },
  {
   "cell_type": "markdown",
   "metadata": {},
   "source": [
    "Function to create the windows and outut an array. \n",
    "Parameters: vals - the values, N - the size of the windows we want to create."
   ]
  },
  {
   "cell_type": "code",
   "execution_count": 38,
   "metadata": {},
   "outputs": [],
   "source": [
    "#create a window function to create windows array based on \n",
    "def windows(vals, N=window_size):\n",
    "  # empty array.\n",
    "  L = []\n",
    "  # Loop through all possible windows\n",
    "  for i in range(len(vals) - N + 1): # to generate windows which will never be smaller than window size. So length of values, - window size +1\n",
    "    # append each window to the list\n",
    "    L.append(vals[i:i+N])\n",
    "  # return stacked windows\n",
    "  return np.stack(L)\n"
   ]
  },
  {
   "cell_type": "markdown",
   "metadata": {},
   "source": [
    "Call the function for df_train_vals"
   ]
  },
  {
   "cell_type": "code",
   "execution_count": 39,
   "metadata": {},
   "outputs": [],
   "source": [
    "# create windows for training values\n",
    "#passing the whole dataframe\n",
    "# x_train is our training data set\n",
    "x_train = windows(df_train_vals)"
   ]
  },
  {
   "cell_type": "markdown",
   "metadata": {},
   "source": [
    "The shape of the array is 3754, windows of 288 x 1 arrays, ie. each value in the window is an array itself because we passed a whole dataframe to the function.\n",
    "In this demonstration we stop at 3754 because our final array begins at this posisiton.\n"
   ]
  },
  {
   "cell_type": "code",
   "execution_count": 40,
   "metadata": {},
   "outputs": [
    {
     "data": {
      "text/plain": [
       "(3745, 288, 1)"
      ]
     },
     "execution_count": 40,
     "metadata": {},
     "output_type": "execute_result"
    }
   ],
   "source": [
    "x_train.shape"
   ]
  },
  {
   "cell_type": "markdown",
   "metadata": {},
   "source": [
    "View the stacked array"
   ]
  },
  {
   "cell_type": "code",
   "execution_count": 41,
   "metadata": {},
   "outputs": [
    {
     "data": {
      "text/plain": [
       "array([[[-0.85882857],\n",
       "        [-0.72899302],\n",
       "        [-0.84814772],\n",
       "        ...,\n",
       "        [-0.86453747],\n",
       "        [-0.81250829],\n",
       "        [-0.79671155]],\n",
       "\n",
       "       [[-0.72899302],\n",
       "        [-0.84814772],\n",
       "        [-0.72958579],\n",
       "        ...,\n",
       "        [-0.81250829],\n",
       "        [-0.79671155],\n",
       "        [-0.78767946]],\n",
       "\n",
       "       [[-0.84814772],\n",
       "        [-0.72958579],\n",
       "        [-0.731173  ],\n",
       "        ...,\n",
       "        [-0.79671155],\n",
       "        [-0.78767946],\n",
       "        [-0.73706287]],\n",
       "\n",
       "       ...,\n",
       "\n",
       "       [[-0.8226548 ],\n",
       "        [-0.86660975],\n",
       "        [-0.82181363],\n",
       "        ...,\n",
       "        [-0.79164661],\n",
       "        [-0.78025492],\n",
       "        [-0.83364049]],\n",
       "\n",
       "       [[-0.86660975],\n",
       "        [-0.82181363],\n",
       "        [-0.75595835],\n",
       "        ...,\n",
       "        [-0.78025492],\n",
       "        [-0.83364049],\n",
       "        [-0.73510213]],\n",
       "\n",
       "       [[-0.82181363],\n",
       "        [-0.75595835],\n",
       "        [-0.74256753],\n",
       "        ...,\n",
       "        [-0.83364049],\n",
       "        [-0.73510213],\n",
       "        [-0.8460886 ]]])"
      ]
     },
     "execution_count": 41,
     "metadata": {},
     "output_type": "execute_result"
    }
   ],
   "source": [
    "x_train"
   ]
  },
  {
   "cell_type": "code",
   "execution_count": 42,
   "metadata": {},
   "outputs": [
    {
     "data": {
      "text/plain": [
       "(array([-0.85882857]), array([-0.8460886]))"
      ]
     },
     "execution_count": 42,
     "metadata": {},
     "output_type": "execute_result"
    }
   ],
   "source": [
    "# print first value of first window and last value of last widow and of last window\n",
    "x_train[0][0], x_train[-1][-1]"
   ]
  },
  {
   "cell_type": "code",
   "execution_count": 43,
   "metadata": {},
   "outputs": [
    {
     "data": {
      "text/plain": [
       "(value   -0.858829\n",
       " Name: 2014-04-01 00:00:00, dtype: float64,\n",
       " value   -0.846089\n",
       " Name: 2014-04-14 23:55:00, dtype: float64)"
      ]
     },
     "execution_count": 43,
     "metadata": {},
     "output_type": "execute_result"
    }
   ],
   "source": [
    "# rounded\n",
    "#get first and last row of training values\n",
    "df_train_vals.iloc[0], df_train_vals.iloc[-1]"
   ]
  },
  {
   "cell_type": "code",
   "execution_count": 44,
   "metadata": {},
   "outputs": [
    {
     "data": {
      "text/plain": [
       "(3745, 288, 1)"
      ]
     },
     "execution_count": 44,
     "metadata": {},
     "output_type": "execute_result"
    }
   ],
   "source": [
    "# number of training examples. in 288 windows.\n",
    "# \n",
    "#from 4032 we end up with 3745 examples because we stop at 3745\n",
    "#or else windows will get progressively smaller after window 3745\n",
    "x_train.shape\n",
    "#print(x_train)"
   ]
  },
  {
   "cell_type": "markdown",
   "metadata": {},
   "source": [
    "Flatten the array to make"
   ]
  },
  {
   "cell_type": "code",
   "execution_count": 57,
   "metadata": {},
   "outputs": [
    {
     "data": {
      "text/plain": [
       "array([[[-0.85882857],\n",
       "        [-0.72899302],\n",
       "        [-0.84814772],\n",
       "        ...,\n",
       "        [-0.86453747],\n",
       "        [-0.81250829],\n",
       "        [-0.79671155]],\n",
       "\n",
       "       [[-0.72899302],\n",
       "        [-0.84814772],\n",
       "        [-0.72958579],\n",
       "        ...,\n",
       "        [-0.81250829],\n",
       "        [-0.79671155],\n",
       "        [-0.78767946]],\n",
       "\n",
       "       [[-0.84814772],\n",
       "        [-0.72958579],\n",
       "        [-0.731173  ],\n",
       "        ...,\n",
       "        [-0.79671155],\n",
       "        [-0.78767946],\n",
       "        [-0.73706287]],\n",
       "\n",
       "       ...,\n",
       "\n",
       "       [[-0.8226548 ],\n",
       "        [-0.86660975],\n",
       "        [-0.82181363],\n",
       "        ...,\n",
       "        [-0.79164661],\n",
       "        [-0.78025492],\n",
       "        [-0.83364049]],\n",
       "\n",
       "       [[-0.86660975],\n",
       "        [-0.82181363],\n",
       "        [-0.75595835],\n",
       "        ...,\n",
       "        [-0.78025492],\n",
       "        [-0.83364049],\n",
       "        [-0.73510213]],\n",
       "\n",
       "       [[-0.82181363],\n",
       "        [-0.75595835],\n",
       "        [-0.74256753],\n",
       "        ...,\n",
       "        [-0.83364049],\n",
       "        [-0.73510213],\n",
       "        [-0.8460886 ]]])"
      ]
     },
     "execution_count": 57,
     "metadata": {},
     "output_type": "execute_result"
    }
   ],
   "source": [
    "# now flatten the array into a 1d array of 3745 values.\n",
    "x_train\n"
   ]
  },
  {
   "cell_type": "code",
   "execution_count": 59,
   "metadata": {},
   "outputs": [
    {
     "data": {
      "text/plain": [
       "array([[-0.85882857],\n",
       "       [-0.72899302],\n",
       "       [-0.84814772],\n",
       "       [-0.72958579],\n",
       "       [-0.731173  ],\n",
       "       [-0.75730984],\n",
       "       [-0.77645641],\n",
       "       [-0.7880838 ],\n",
       "       [-0.747012  ],\n",
       "       [-0.829166  ],\n",
       "       [-0.80377285],\n",
       "       [-0.7821597 ],\n",
       "       [-0.81182078],\n",
       "       [-0.80949918],\n",
       "       [-0.82334701],\n",
       "       [-0.79001779],\n",
       "       [-0.74922405],\n",
       "       [-0.84169024],\n",
       "       [-0.73727717],\n",
       "       [-0.77223023],\n",
       "       [-0.75311352],\n",
       "       [-0.79116337],\n",
       "       [-0.75934728],\n",
       "       [-0.86809294],\n",
       "       [-0.75381057],\n",
       "       [-0.86468256],\n",
       "       [-0.74361965],\n",
       "       [-0.72908121],\n",
       "       [-0.82850668],\n",
       "       [-0.84043795],\n",
       "       [-0.76136364],\n",
       "       [-0.8343536 ],\n",
       "       [-0.74708881],\n",
       "       [-0.85574949],\n",
       "       [-0.85245676],\n",
       "       [-0.73090636],\n",
       "       [-0.77440264],\n",
       "       [-0.74974936],\n",
       "       [-0.82419543],\n",
       "       [-0.77402585],\n",
       "       [-0.78574242],\n",
       "       [-0.7844733 ],\n",
       "       [-0.77316412],\n",
       "       [-0.78843253],\n",
       "       [-0.80927467],\n",
       "       [-0.83109167],\n",
       "       [-0.76090519],\n",
       "       [-0.83816509],\n",
       "       [-0.77176485],\n",
       "       [-0.83715923],\n",
       "       [-0.78131343],\n",
       "       [-0.76396862],\n",
       "       [-0.83924191],\n",
       "       [-0.86186112],\n",
       "       [-0.85174179],\n",
       "       [-0.78406773],\n",
       "       [-0.74938477],\n",
       "       [-0.86399047],\n",
       "       [-0.76581026],\n",
       "       [-0.82177506],\n",
       "       [-0.80222751],\n",
       "       [-0.73807119],\n",
       "       [-0.82310669],\n",
       "       [-0.80410682],\n",
       "       [-0.86845167],\n",
       "       [-0.85877599],\n",
       "       [-0.83356075],\n",
       "       [-0.86643297],\n",
       "       [-0.78045221],\n",
       "       [-0.8096542 ],\n",
       "       [-0.79230956],\n",
       "       [-0.84551986],\n",
       "       [-0.82824105],\n",
       "       [-0.77582935],\n",
       "       [-0.73287933],\n",
       "       [-0.86321832],\n",
       "       [-0.74355256],\n",
       "       [-0.7882157 ],\n",
       "       [-0.79006227],\n",
       "       [-0.79912888],\n",
       "       [-0.86051472],\n",
       "       [-0.85759665],\n",
       "       [-0.78479216],\n",
       "       [-0.82182635],\n",
       "       [-0.73972257],\n",
       "       [-0.81247611],\n",
       "       [-0.84998837],\n",
       "       [-0.76857869],\n",
       "       [-0.82860841],\n",
       "       [-0.79553994],\n",
       "       [-0.77098436],\n",
       "       [-0.74214503],\n",
       "       [-0.75754161],\n",
       "       [-0.77404332],\n",
       "       [-0.77357716],\n",
       "       [-0.73564002],\n",
       "       [-0.82825643],\n",
       "       [-0.8702425 ],\n",
       "       [-0.83165699],\n",
       "       [-0.83935909],\n",
       "       [-0.77611284],\n",
       "       [-0.78011937],\n",
       "       [-0.78585361],\n",
       "       [-0.86808681],\n",
       "       [-0.76657575],\n",
       "       [-0.82430925],\n",
       "       [-0.7756539 ],\n",
       "       [-0.79110813],\n",
       "       [ 0.83423034],\n",
       "       [ 0.73340436],\n",
       "       [ 0.71395293],\n",
       "       [ 1.07098925],\n",
       "       [ 1.11307181],\n",
       "       [ 0.98296271],\n",
       "       [ 0.71831972],\n",
       "       [ 0.86295228],\n",
       "       [ 1.02130195],\n",
       "       [ 1.04594803],\n",
       "       [ 0.72548104],\n",
       "       [ 0.66823317],\n",
       "       [ 1.36958529],\n",
       "       [ 1.17305538],\n",
       "       [ 1.11661005],\n",
       "       [ 0.98307138],\n",
       "       [ 1.27459976],\n",
       "       [ 1.44642694],\n",
       "       [ 1.50528567],\n",
       "       [ 1.28866513],\n",
       "       [ 1.26031743],\n",
       "       [ 1.02295817],\n",
       "       [ 1.27933882],\n",
       "       [ 1.18598059],\n",
       "       [ 1.3813925 ],\n",
       "       [ 1.25767699],\n",
       "       [ 1.1736019 ],\n",
       "       [ 1.09127902],\n",
       "       [ 1.21586925],\n",
       "       [ 1.09223039],\n",
       "       [ 1.13768838],\n",
       "       [ 1.59675342],\n",
       "       [ 1.28904484],\n",
       "       [ 1.33876025],\n",
       "       [ 1.53233922],\n",
       "       [ 1.60141677],\n",
       "       [ 1.38146244],\n",
       "       [ 1.51223576],\n",
       "       [ 1.23588256],\n",
       "       [ 1.22381772],\n",
       "       [ 1.2790048 ],\n",
       "       [ 1.43257027],\n",
       "       [ 1.43808241],\n",
       "       [ 1.22922231],\n",
       "       [ 1.12561563],\n",
       "       [ 1.40974009],\n",
       "       [ 1.12283575],\n",
       "       [ 1.37905941],\n",
       "       [ 1.44731563],\n",
       "       [ 1.45141157],\n",
       "       [ 1.48152744],\n",
       "       [ 1.54954504],\n",
       "       [ 1.33709539],\n",
       "       [ 1.46829683],\n",
       "       [ 1.4050141 ],\n",
       "       [ 1.15859057],\n",
       "       [ 1.06689361],\n",
       "       [ 1.21436719],\n",
       "       [ 1.30466379],\n",
       "       [ 1.40383661],\n",
       "       [ 1.53708371],\n",
       "       [ 1.16457702],\n",
       "       [ 1.12429225],\n",
       "       [ 1.60177134],\n",
       "       [ 1.11431721],\n",
       "       [ 1.32540935],\n",
       "       [ 1.38642273],\n",
       "       [ 1.36124227],\n",
       "       [ 1.10177385],\n",
       "       [ 1.08524575],\n",
       "       [ 1.1128578 ],\n",
       "       [ 1.38643638],\n",
       "       [ 1.36304532],\n",
       "       [ 1.18604649],\n",
       "       [ 1.41628631],\n",
       "       [ 1.52016681],\n",
       "       [ 1.07654239],\n",
       "       [ 1.33670957],\n",
       "       [ 1.44565443],\n",
       "       [ 1.19662931],\n",
       "       [ 1.22823281],\n",
       "       [ 1.40253218],\n",
       "       [ 1.56454005],\n",
       "       [ 1.51438674],\n",
       "       [ 1.38516952],\n",
       "       [ 1.46899077],\n",
       "       [ 1.26076513],\n",
       "       [ 1.41812743],\n",
       "       [ 1.31852542],\n",
       "       [ 1.16110478],\n",
       "       [ 1.45275926],\n",
       "       [ 1.36997393],\n",
       "       [ 1.25723151],\n",
       "       [ 1.57220199],\n",
       "       [ 1.06479764],\n",
       "       [ 1.23281399],\n",
       "       [ 1.08528647],\n",
       "       [ 1.48968441],\n",
       "       [ 1.45297419],\n",
       "       [ 1.24169607],\n",
       "       [ 1.43790453],\n",
       "       [ 1.2785004 ],\n",
       "       [ 1.48382995],\n",
       "       [ 1.31169265],\n",
       "       [ 1.28781332],\n",
       "       [ 1.58553613],\n",
       "       [ 1.19583776],\n",
       "       [ 1.12151008],\n",
       "       [-0.35250349],\n",
       "       [-0.26479567],\n",
       "       [-0.39962031],\n",
       "       [-0.47160544],\n",
       "       [-0.40840388],\n",
       "       [-0.37042247],\n",
       "       [-0.44883702],\n",
       "       [-0.33573617],\n",
       "       [-0.25831579],\n",
       "       [-0.38277522],\n",
       "       [-0.40488824],\n",
       "       [-0.39440839],\n",
       "       [-0.77509723],\n",
       "       [-0.65253443],\n",
       "       [-0.72728022],\n",
       "       [-0.73167631],\n",
       "       [-0.6882095 ],\n",
       "       [-0.72293893],\n",
       "       [-0.69003755],\n",
       "       [-0.78366561],\n",
       "       [-0.6636319 ],\n",
       "       [-0.64340272],\n",
       "       [-0.68995268],\n",
       "       [-0.64115899],\n",
       "       [-0.83292321],\n",
       "       [-0.78536741],\n",
       "       [-0.76722084],\n",
       "       [-0.77014874],\n",
       "       [-0.79644794],\n",
       "       [-0.80569367],\n",
       "       [-0.83651316],\n",
       "       [-0.79786583],\n",
       "       [-0.83128515],\n",
       "       [-0.74788262],\n",
       "       [-0.82454968],\n",
       "       [-0.84647101],\n",
       "       [-0.78825327],\n",
       "       [-0.78211741],\n",
       "       [-0.74251058],\n",
       "       [-0.7847296 ],\n",
       "       [-0.8178686 ],\n",
       "       [-0.75237369],\n",
       "       [-0.78998354],\n",
       "       [-0.85597483],\n",
       "       [-0.78632299],\n",
       "       [-0.73734213],\n",
       "       [-0.81059211],\n",
       "       [-0.82490508],\n",
       "       [-0.84932652],\n",
       "       [-0.84818912],\n",
       "       [-0.80807162],\n",
       "       [-0.78484064],\n",
       "       [-0.8582896 ],\n",
       "       [-0.73580158],\n",
       "       [-0.76210229],\n",
       "       [-0.78613203],\n",
       "       [-0.75164888],\n",
       "       [-0.85835073],\n",
       "       [-0.80178754],\n",
       "       [-0.77993325],\n",
       "       [-0.75220135],\n",
       "       [-0.75863962],\n",
       "       [-0.83079766],\n",
       "       [-0.73620985],\n",
       "       [-0.85255954],\n",
       "       [-0.74557822],\n",
       "       [-0.73192653],\n",
       "       [-0.84503486],\n",
       "       [-0.76738913],\n",
       "       [-0.86453747],\n",
       "       [-0.81250829],\n",
       "       [-0.79671155]])"
      ]
     },
     "execution_count": 59,
     "metadata": {},
     "output_type": "execute_result"
    }
   ],
   "source": [
    "#x_train[0].flatten()\n",
    "\n",
    "x_train[0]"
   ]
  },
  {
   "cell_type": "code",
   "execution_count": 60,
   "metadata": {},
   "outputs": [
    {
     "data": {
      "text/plain": [
       "array([[[-0.85882857],\n",
       "        [-0.72899302],\n",
       "        [-0.84814772],\n",
       "        ...,\n",
       "        [-0.86453747],\n",
       "        [-0.81250829],\n",
       "        [-0.79671155]],\n",
       "\n",
       "       [[-0.72899302],\n",
       "        [-0.84814772],\n",
       "        [-0.72958579],\n",
       "        ...,\n",
       "        [-0.81250829],\n",
       "        [-0.79671155],\n",
       "        [-0.78767946]],\n",
       "\n",
       "       [[-0.84814772],\n",
       "        [-0.72958579],\n",
       "        [-0.731173  ],\n",
       "        ...,\n",
       "        [-0.79671155],\n",
       "        [-0.78767946],\n",
       "        [-0.73706287]],\n",
       "\n",
       "       ...,\n",
       "\n",
       "       [[-0.8226548 ],\n",
       "        [-0.86660975],\n",
       "        [-0.82181363],\n",
       "        ...,\n",
       "        [-0.79164661],\n",
       "        [-0.78025492],\n",
       "        [-0.83364049]],\n",
       "\n",
       "       [[-0.86660975],\n",
       "        [-0.82181363],\n",
       "        [-0.75595835],\n",
       "        ...,\n",
       "        [-0.78025492],\n",
       "        [-0.83364049],\n",
       "        [-0.73510213]],\n",
       "\n",
       "       [[-0.82181363],\n",
       "        [-0.75595835],\n",
       "        [-0.74256753],\n",
       "        ...,\n",
       "        [-0.83364049],\n",
       "        [-0.73510213],\n",
       "        [-0.8460886 ]]])"
      ]
     },
     "execution_count": 60,
     "metadata": {},
     "output_type": "execute_result"
    }
   ],
   "source": [
    "x_train"
   ]
  },
  {
   "cell_type": "markdown",
   "metadata": {},
   "source": [
    "So, x_train is the training values as a numpy array of 3745 windows.\n",
    "We can now take any window and identify it on the training value visualisation"
   ]
  },
  {
   "cell_type": "code",
   "execution_count": 77,
   "metadata": {},
   "outputs": [
    {
     "data": {
      "image/png": "[encoded data removed]",
      "text/plain": [
       "<Figure size 1200x600 with 1 Axes>"
      ]
     },
     "metadata": {},
     "output_type": "display_data"
    }
   ],
   "source": [
    "# We can now identify an indvidual window\n",
    "window_no1 = 288\n",
    "window_no2 = 3000\n",
    "# create a plt plot\n",
    "fig, ax = plt.subplots(figsize=(12, 6))\n",
    "\n",
    "# plot the training values\n",
    "y = df_train_vals['value'].values\n",
    "\n",
    "# x axis is the shape of the array (time series of 4032 samples)\n",
    "#  label the training values visualisation, signal\n",
    "# y axis is the training values\n",
    "ax.plot(np.arange(y.shape[0]), y, label='signal')\n",
    "\n",
    "# The first window.\n",
    "# Window 200 must have been somewhere towards the end of 1st day (200 < 288) and 24 hourse or 288 * 5min intervals into the next day.\n",
    "#flatten into 1 d array of 288\n",
    "w1 = x_train[window_no1].flatten()\n",
    "w2 = x_train[window_no2].flatten()\n",
    "# \n",
    "#plot on x axis of main plot with training values.\n",
    "ax.plot(np.arange(w1.shape[0]) + window_no1, w, label='window 1')\n",
    "ax.plot(np.arange(w2.shape[0]) + window_no2, w, label='window 2')\n",
    "ax.legend();"
   ]
  },
  {
   "cell_type": "markdown",
   "metadata": {},
   "source": [
    "So what happened?\n",
    "We can now visualise any window of a data sample onto our training data, although the example above is a window from the training dataset."
   ]
  },
  {
   "cell_type": "markdown",
   "metadata": {},
   "source": [
    "## 4. Neural Network\n",
    "\n",
    "***"
   ]
  },
  {
   "cell_type": "markdown",
   "metadata": {},
   "source": [
    "#### 4.1 Creating sequential the model"
   ]
  },
  {
   "cell_type": "code",
   "execution_count": 63,
   "metadata": {},
   "outputs": [
    {
     "data": {
      "text/plain": [
       "288"
      ]
     },
     "execution_count": 63,
     "metadata": {},
     "output_type": "execute_result"
    }
   ],
   "source": [
    "x_train.shape[1]"
   ]
  },
  {
   "cell_type": "markdown",
   "metadata": {},
   "source": [
    "Now we use keras to build a sequential model.\n",
    "shape 288 nodes as input\n",
    "The first layer is the input shape.\n",
    "\n",
    "The second layer is the 1d convolution later which is specifically useful for time series data. A kernel slides along the times series at each point as the kernel moves along the times series it reads 288 x 1 data point\n",
    "\n",
    "convolution is the process of taking a kernel and doing a sliding dot product with the signal (value)\n",
    "Take the kernel and flip it around, and then slide it along. At each point where the signal match (same time point), multiply the points on the kernel that line up with the points on the signal and then add them  together. This gives the convolution at that point. Each process is known as taking a dot product and the whole process of sliding the kernel is known as a sliding dot product.\n",
    "https://end-to-end-machine-learning.teachable.com/p/321-convolutional-neural-networks\n",
    "1D convolution for neural networks, part 2: Convolution copies the kernel Youtube\n",
    "\n",
    "The drop out layer \n",
    "Dropout(rate=0.2),\n",
    "\n",
    "As the operations continue the The convID Transpose layer reshapes the data for output because \n",
    "https://towardsdatascience.com/transposed-convolution-demystified-84ca81b4baba"
   ]
  },
  {
   "cell_type": "code",
   "execution_count": 65,
   "metadata": {},
   "outputs": [],
   "source": [
    "# What is the Neural Network\n",
    "#create layers of?\n",
    "#explain each layer\n",
    "layers = [ \n",
    "  #https://keras.io/api/layers/core_layers/input/[\n",
    "    #the input shape of the sequential model will be 288 x 1\n",
    "  keras.layers.Input(shape=(x_train.shape[1], x_train.shape[2])),\n",
    "  #the 1 d convolution layer is used for time sequences\n",
    "  keras.layers.Conv1D(\n",
    "    filters=32, kernel_size=7, padding=\"same\", strides=2, activation=\"relu\"),\n",
    "  #sets input units with a rate of .2 to zero. Designed to prevent overfitting.\n",
    "  keras.layers.Dropout(rate=0.2),\n",
    "  #\n",
    "  keras.layers.Conv1D(\n",
    "    filters=16, kernel_size=7, padding=\"same\", strides=2, activation=\"relu\"),\n",
    "  #\n",
    "  keras.layers.Conv1DTranspose(\n",
    "    filters=16, kernel_size=7, padding=\"same\", strides=2, activation=\"relu\"),\n",
    "  #\n",
    "  keras.layers.Dropout(rate=0.2),\n",
    "  #\n",
    "  keras.layers.Conv1DTranspose(\n",
    "    filters=32, kernel_size=7, padding=\"same\", strides=2, activation=\"relu\"),\n",
    "  #\n",
    "  keras.layers.Conv1DTranspose(filters=1, kernel_size=7, padding=\"same\"),\n",
    "]\n",
    "\n",
    "#https://jinglescode.github.io/2020/11/01/how-convolutional-layers-work-deep-learning-neural-networks/"
   ]
  },
  {
   "cell_type": "code",
   "execution_count": null,
   "metadata": {},
   "outputs": [],
   "source": []
  },
  {
   "cell_type": "code",
   "execution_count": 66,
   "metadata": {},
   "outputs": [],
   "source": [
    "# Apply the layers to the sequential model\n",
    "model = keras.Sequential(layers)"
   ]
  },
  {
   "cell_type": "markdown",
   "metadata": {},
   "source": [
    "Optimizers improve accuracy by reducing loss by changing attributes such as learning rates and weights in order minmises loss\n",
    "The Adam optimiser uses the Adam alogrithm. Adam stands for adaptive moment estimation,it works by using past gradients to work out current gradients.  \n",
    "#https://analyticsindiamag.com/guide-to-tensorflow-keras-optimizers/#:~:text=Optimizers%20are%20Classes%20or%20methods,help%20to%20get%20results%20faster."
   ]
  },
  {
   "cell_type": "code",
   "execution_count": 78,
   "metadata": {},
   "outputs": [],
   "source": [
    "optimizer = keras.optimizers.Adam(learning_rate=0.001)"
   ]
  },
  {
   "cell_type": "markdown",
   "metadata": {},
   "source": [
    "The loss is constantly being calcluated is being used to get gradients of weights and used to update weights, updates occur at every interation of the network. It used in conjuction with optimizer. \n",
    "https://neptune.ai/blog/keras-loss-functions\n",
    "the __mse__ function means Mean Squared Error. The mean squared error calcualtes the mean square of errors between predictions and true values.\n",
    "\n",
    "\n",
    "https://keras.io/api/losses/regression_losses/#mean_squared_error-function"
   ]
  },
  {
   "cell_type": "code",
   "execution_count": 79,
   "metadata": {},
   "outputs": [],
   "source": [
    "#compile the nerual network\n",
    "model.compile(optimizer=optimizer, loss=\"mse\")"
   ]
  },
  {
   "cell_type": "code",
   "execution_count": 69,
   "metadata": {},
   "outputs": [
    {
     "name": "stdout",
     "output_type": "stream",
     "text": [
      "Model: \"sequential\"\n",
      "_________________________________________________________________\n",
      " Layer (type)                Output Shape              Param #   \n",
      "=================================================================\n",
      " conv1d (Conv1D)             (None, 144, 32)           256       \n",
      "                                                                 \n",
      " dropout (Dropout)           (None, 144, 32)           0         \n",
      "                                                                 \n",
      " conv1d_1 (Conv1D)           (None, 72, 16)            3600      \n",
      "                                                                 \n",
      " conv1d_transpose (Conv1DTra  (None, 144, 16)          1808      \n",
      " nspose)                                                         \n",
      "                                                                 \n",
      " dropout_1 (Dropout)         (None, 144, 16)           0         \n",
      "                                                                 \n",
      " conv1d_transpose_1 (Conv1DT  (None, 288, 32)          3616      \n",
      " ranspose)                                                       \n",
      "                                                                 \n",
      " conv1d_transpose_2 (Conv1DT  (None, 288, 1)           225       \n",
      " ranspose)                                                       \n",
      "                                                                 \n",
      "=================================================================\n",
      "Total params: 9,505\n",
      "Trainable params: 9,505\n",
      "Non-trainable params: 0\n",
      "_________________________________________________________________\n"
     ]
    }
   ],
   "source": [
    "model.summary()\n",
    "#all the differnt layers"
   ]
  },
  {
   "cell_type": "markdown",
   "metadata": {},
   "source": [
    "#### 4.2 Training the network"
   ]
  },
  {
   "cell_type": "markdown",
   "metadata": {},
   "source": [
    " The model fit method trains the model. The parameters are:\n",
    "    \n",
    "__x__ the x values, in this case the time series, keras extrapolates these from the x_train data set\n",
    "\n",
    "__y__ the sample values, keras extrapolates these from the x_train data set\n",
    "\n",
    "__epochs__ one epoch means the sample has been passed through the network once. Our example will do this 50 times.\n",
    "\n",
    "__batch_size__ how many values will be passed to the the network at one time, in this example, 128\n",
    "\n",
    "__validation_split__ this how much of the sample will be held back for the validation data set, in this case .1 or 10% of the sample - see validation loss below \n",
    "\n",
    "__callbacks__  callbacks are functions executed at given stages during the training. They can be triggered by events, such as epoch_end, epoch_begin.\n",
    "\n",
    "https://blog.paperspace.com/tensorflow-callbacks/\n",
    "\n",
    "__EarlyStopping()__ will stop the training when the accuracy is no longer improving, users can determine the level of this.\n",
    "\n",
    "__monitor=\"val_loss\"__ is the metric that the method is monintoring.\n",
    "\n",
    "__mode=\"min\"__ in this case tells the early stop should occur when the monitored metric should be decreasing \n",
    "\n",
    "Loss is: \n",
    "\n",
    "Training loss assess how a learning model fits the data, it assesses the (sum of all) error(s) of the model for each batch (the number of samples for each epoch).\n",
    "\n",
    "val_loss (validation loss) is similar to the traing loss. It is the sum of error for a validation data set, data set aside to be used for validation at the end of each epoch.\n",
    "\n",
    "https://www.baeldung.com/cs/training-validation-loss-deep-learning\n"
   ]
  },
  {
   "cell_type": "code",
   "execution_count": 70,
   "metadata": {},
   "outputs": [
    {
     "name": "stdout",
     "output_type": "stream",
     "text": [
      "Epoch 1/50\n",
      "27/27 [==============================] - 2s 36ms/step - loss: 0.4937 - val_loss: 0.0696\n",
      "Epoch 2/50\n",
      "27/27 [==============================] - 1s 29ms/step - loss: 0.0809 - val_loss: 0.0399\n",
      "Epoch 3/50\n",
      "27/27 [==============================] - 1s 28ms/step - loss: 0.0558 - val_loss: 0.0328\n",
      "Epoch 4/50\n",
      "27/27 [==============================] - 1s 29ms/step - loss: 0.0451 - val_loss: 0.0288\n",
      "Epoch 5/50\n",
      "27/27 [==============================] - 1s 29ms/step - loss: 0.0387 - val_loss: 0.0258\n",
      "Epoch 6/50\n",
      "27/27 [==============================] - 1s 29ms/step - loss: 0.0346 - val_loss: 0.0235\n",
      "Epoch 7/50\n",
      "27/27 [==============================] - 1s 29ms/step - loss: 0.0314 - val_loss: 0.0237\n",
      "Epoch 8/50\n",
      "27/27 [==============================] - 1s 28ms/step - loss: 0.0289 - val_loss: 0.0222\n",
      "Epoch 9/50\n",
      "27/27 [==============================] - 1s 28ms/step - loss: 0.0271 - val_loss: 0.0239\n",
      "Epoch 10/50\n",
      "27/27 [==============================] - 1s 28ms/step - loss: 0.0256 - val_loss: 0.0231\n",
      "Epoch 11/50\n",
      "27/27 [==============================] - 1s 29ms/step - loss: 0.0245 - val_loss: 0.0242\n",
      "Epoch 12/50\n",
      "27/27 [==============================] - 1s 29ms/step - loss: 0.0235 - val_loss: 0.0245\n",
      "Epoch 13/50\n",
      "27/27 [==============================] - 1s 28ms/step - loss: 0.0227 - val_loss: 0.0251\n"
     ]
    }
   ],
   "source": [
    "# model .fit https://kera.io/sapi/models/model_training_apis/\n",
    "#returns a history object - dictionary?\n",
    "#find a link to the history\n",
    "#https://www.tensorflow.org/api_docs/python/tf/keras/callbacks/History\n",
    "#search keras model fit....find fit method in sequential class\n",
    "history = model.fit(\n",
    "    #trains model oninput and output\n",
    "    #no anomally ones\n",
    "    x_train,\n",
    "    x_train,\n",
    "    epochs=50,\n",
    "    batch_size=128,\n",
    "    validation_split=0.1,\n",
    "    callbacks=[\n",
    "        keras.callbacks.EarlyStopping(monitor=\"val_loss\", patience=5, mode=\"min\")\n",
    "    ],\n",
    ")"
   ]
  },
  {
   "cell_type": "markdown",
   "metadata": {},
   "source": [
    "## 5. Evaluation\n",
    "\n",
    "***\n",
    "\n",
    "#### 5.1 Evaluating the performance of the training model\n",
    "\n",
    "The callback functions keep a history of validation loss and the model itself keeps a training history. These values are returned as an arrays history[\"loss\"] and history[\"val_loss\"]"
   ]
  },
  {
   "cell_type": "code",
   "execution_count": 71,
   "metadata": {},
   "outputs": [
    {
     "data": {
      "text/plain": [
       "[0.49365001916885376,\n",
       " 0.08085252344608307,\n",
       " 0.05578494071960449,\n",
       " 0.04505490884184837,\n",
       " 0.038669876754283905,\n",
       " 0.03462502360343933,\n",
       " 0.03136054426431656,\n",
       " 0.028900640085339546,\n",
       " 0.027085958048701286,\n",
       " 0.02555626630783081,\n",
       " 0.024518506601452827,\n",
       " 0.02348637953400612,\n",
       " 0.022711144760251045]"
      ]
     },
     "execution_count": 71,
     "metadata": {},
     "output_type": "execute_result"
    }
   ],
   "source": [
    "history.history[\"loss\"]"
   ]
  },
  {
   "cell_type": "code",
   "execution_count": 72,
   "metadata": {},
   "outputs": [
    {
     "data": {
      "text/plain": [
       "[0.06957781314849854,\n",
       " 0.03991954028606415,\n",
       " 0.03279845044016838,\n",
       " 0.028828084468841553,\n",
       " 0.025757387280464172,\n",
       " 0.02354091964662075,\n",
       " 0.023722084239125252,\n",
       " 0.022200722247362137,\n",
       " 0.023936716839671135,\n",
       " 0.023084033280611038,\n",
       " 0.024228110909461975,\n",
       " 0.024530822411179543,\n",
       " 0.02509053610265255]"
      ]
     },
     "execution_count": 72,
     "metadata": {},
     "output_type": "execute_result"
    }
   ],
   "source": [
    "history.history[\"val_loss\"]"
   ]
  },
  {
   "cell_type": "markdown",
   "metadata": {},
   "source": [
    "We can plot both loss history and see the how loss is minmised as each epoch is passed. \n",
    "\n",
    "In this case validation loss and training loss decrease steadily and eventually stablise at the same value. This suggests an optimal fit, a model that does not over fit nor under fit\n",
    "https://www.baeldung.com/cs/training-validation-loss-deep-learning"
   ]
  },
  {
   "cell_type": "code",
   "execution_count": 73,
   "metadata": {},
   "outputs": [
    {
     "data": {
      "text/plain": [
       "<matplotlib.legend.Legend at 0x208832332e0>"
      ]
     },
     "execution_count": 73,
     "metadata": {},
     "output_type": "execute_result"
    },
    {
     "data": {
      "image/png": "[encoded data removed]",
      "text/plain": [
       "<Figure size 1000x600 with 1 Axes>"
      ]
     },
     "metadata": {},
     "output_type": "display_data"
    }
   ],
   "source": [
    "#history is fitted model\n",
    "#loss is trainingloss\n",
    "#val las is validation loss\n",
    "#\n",
    "fig, ax = plt.subplots(figsize = (10,6))\n",
    "#\n",
    "ax.plot(history.history[\"loss\"], label=\"Training Loss\")\n",
    "#\n",
    "ax.plot(history.history[\"val_loss\"], label=\"Validation Loss\")\n",
    "#\n",
    "ax.legend()"
   ]
  },
  {
   "cell_type": "markdown",
   "metadata": {},
   "source": [
    "MAE loss the \n",
    "https://heartbeat.comet.ml/5-regression-loss-functions-all-machine-learners-should-know-4fb140e9d4b0\n",
    "Mean Absolute Erroris the sum of absolute deifferences between target and predicted values. It is used to determine the models performance"
   ]
  },
  {
   "cell_type": "code",
   "execution_count": 82,
   "metadata": {},
   "outputs": [
    {
     "name": "stdout",
     "output_type": "stream",
     "text": [
      "118/118 [==============================] - 1s 3ms/step\n"
     ]
    },
    {
     "data": {
      "text/plain": [
       "array([[[-0.56927115],\n",
       "        [-0.6702041 ],\n",
       "        [-0.73066175],\n",
       "        ...,\n",
       "        [-0.7837015 ],\n",
       "        [-0.74623847],\n",
       "        [-0.75559396]],\n",
       "\n",
       "       [[-0.57405907],\n",
       "        [-0.67727613],\n",
       "        [-0.74147934],\n",
       "        ...,\n",
       "        [-0.8007399 ],\n",
       "        [-0.7628695 ],\n",
       "        [-0.7636073 ]],\n",
       "\n",
       "       [[-0.5717853 ],\n",
       "        [-0.6741817 ],\n",
       "        [-0.737437  ],\n",
       "        ...,\n",
       "        [-0.7970168 ],\n",
       "        [-0.7589888 ],\n",
       "        [-0.7581304 ]],\n",
       "\n",
       "       ...,\n",
       "\n",
       "       [[-0.5812211 ],\n",
       "        [-0.6850845 ],\n",
       "        [-0.7464828 ],\n",
       "        ...,\n",
       "        [-0.80135804],\n",
       "        [-0.76161146],\n",
       "        [-0.76572275]],\n",
       "\n",
       "       [[-0.58022416],\n",
       "        [-0.68476784],\n",
       "        [-0.7495637 ],\n",
       "        ...,\n",
       "        [-0.800111  ],\n",
       "        [-0.75754154],\n",
       "        [-0.75581706]],\n",
       "\n",
       "       [[-0.5815166 ],\n",
       "        [-0.6859535 ],\n",
       "        [-0.7496311 ],\n",
       "        ...,\n",
       "        [-0.8034286 ],\n",
       "        [-0.7604816 ],\n",
       "        [-0.7593022 ]]], dtype=float32)"
      ]
     },
     "execution_count": 82,
     "metadata": {},
     "output_type": "execute_result"
    }
   ],
   "source": [
    "# Get training dataset MAE loss.\n",
    "model.predict a method of keras that predicts output based on the sample input\n",
    "x_train_pred = model.predict(x_train)\n",
    "#x_train_pred\n",
    "#get model just trained to predict the values out of the training"
   ]
  },
  {
   "cell_type": "code",
   "execution_count": 109,
   "metadata": {},
   "outputs": [
    {
     "data": {
      "text/plain": [
       "array([[0.10407613],\n",
       "       [0.10233825],\n",
       "       [0.104298  ],\n",
       "       ...,\n",
       "       [0.10566282],\n",
       "       [0.10597117],\n",
       "       [0.10395073]])"
      ]
     },
     "execution_count": 109,
     "metadata": {},
     "output_type": "execute_result"
    }
   ],
   "source": [
    "# Calculate MAE loss...\n",
    "#take mean, absolute value of the xtrain predciton minus xtrain on axis 1\n",
    "#work how accurate precitions are are, standard way, could square it\n",
    "train_mae_loss = np.mean(np.abs(x_train_pred - x_train), axis=1)\n",
    "train_mae_loss"
   ]
  },
  {
   "cell_type": "code",
   "execution_count": 85,
   "metadata": {},
   "outputs": [
    {
     "data": {
      "image/png": "[encoded data removed]",
      "text/plain": [
       "<Figure size 1000x600 with 1 Axes>"
      ]
     },
     "metadata": {},
     "output_type": "display_data"
    }
   ],
   "source": [
    "# plot a historgram to show sample per MAE loss\n",
    "fig, ax = plt.subplots(figsize=(10, 6))\n",
    "# split the range into 50 bins\n",
    "ax.hist(train_mae_loss, bins=50)\n",
    "# set axis label\n",
    "ax.set_xlabel(\"Train MAE loss\")\n",
    "#\n",
    "ax.set_ylabel(\"No of samples\");"
   ]
  },
  {
   "cell_type": "markdown",
   "metadata": {},
   "source": [
    "If we look at the histogram once can see that all of the value are below .119\n",
    "https://www.analyticsvidhya.com/blog/2022/01/complete-guide-to-anomaly-detection-with-autoencoders-using-tensorflow/\n",
    "\n",
    "We can get the maximum value. Any test value above this threshold will be an anomally"
   ]
  },
  {
   "cell_type": "code",
   "execution_count": 91,
   "metadata": {},
   "outputs": [
    {
     "data": {
      "text/plain": [
       "0.1190163022236544"
      ]
     },
     "execution_count": 91,
     "metadata": {},
     "output_type": "execute_result"
    }
   ],
   "source": [
    "\n",
    "# Get reconstruction loss threshold.\n",
    "threshold = np.max(train_mae_loss)\n",
    "\n",
    "#\n",
    "threshold"
   ]
  },
  {
   "cell_type": "markdown",
   "metadata": {},
   "source": [
    "Plot the training data against the NN predicted output data."
   ]
  },
  {
   "cell_type": "code",
   "execution_count": 95,
   "metadata": {},
   "outputs": [
    {
     "data": {
      "image/png": "[encoded data removed]",
      "text/plain": [
       "<Figure size 1000x600 with 1 Axes>"
      ]
     },
     "metadata": {},
     "output_type": "display_data"
    }
   ],
   "source": [
    "# \n",
    "fig, ax = plt.subplots(figsize=(10, 6))\n",
    "\n",
    "# plot training data\n",
    "ax.plot(x_train[200])\n",
    "\n",
    "# plot predicted output data\n",
    "ax.plot(x_train_pred[200],'r');"
   ]
  },
  {
   "cell_type": "markdown",
   "metadata": {},
   "source": [
    "#### 5.2 Testing for anomalies\n",
    "\n",
    "So, if network can now predict outputs from the training set. It should be able to detect anomalies "
   ]
  },
  {
   "cell_type": "code",
   "execution_count": 96,
   "metadata": {},
   "outputs": [],
   "source": [
    "Normalising and standardise the test data using the trainin std and training mean, as we did for the training data above (3.1)\n",
    "\n",
    "#df daily jumpsup\n",
    "\n",
    "df_test_value = (df_daily_jumpsup - train_mean) / train_std"
   ]
  },
  {
   "cell_type": "code",
   "execution_count": 97,
   "metadata": {},
   "outputs": [
    {
     "data": {
      "image/png": "[encoded data removed]",
      "text/plain": [
       "<Figure size 1000x600 with 1 Axes>"
      ]
     },
     "metadata": {},
     "output_type": "display_data"
    }
   ],
   "source": [
    "# Create a plot for the test data\n",
    "fig, ax = plt.subplots(figsize=(10, 6))\n",
    "\n",
    "# plot the test data\n",
    "df_test_value.plot(legend=False, ax=ax);"
   ]
  },
  {
   "cell_type": "code",
   "execution_count": 107,
   "metadata": {},
   "outputs": [
    {
     "data": {
      "text/plain": [
       "(3745, 288, 1)"
      ]
     },
     "execution_count": 107,
     "metadata": {},
     "output_type": "execute_result"
    }
   ],
   "source": [
    "# Create sequences from test values. #create windows using the previouly create windows function \n",
    "x_test = windows(df_test_value.values)\n",
    "#check the shape.\n",
    "x_test.shape"
   ]
  },
  {
   "cell_type": "code",
   "execution_count": 108,
   "metadata": {},
   "outputs": [
    {
     "name": "stdout",
     "output_type": "stream",
     "text": [
      "118/118 [==============================] - 0s 4ms/step\n"
     ]
    }
   ],
   "source": [
    "# Call the model preiction function for the test data\n",
    "x_test_pred = model.predict(x_test)"
   ]
  },
  {
   "cell_type": "code",
   "execution_count": 120,
   "metadata": {},
   "outputs": [
    {
     "data": {
      "text/plain": [
       "array([[0.10330593],\n",
       "       [0.10338127],\n",
       "       [0.10425287],\n",
       "       ...,\n",
       "       [0.10380742],\n",
       "       [0.10519672],\n",
       "       [0.10460944]])"
      ]
     },
     "execution_count": 120,
     "metadata": {},
     "output_type": "execute_result"
    }
   ],
   "source": [
    "# Get the MAE loss for the test data.\n",
    "#\n",
    "test_mae_loss = np.mean(np.abs(x_test_pred - x_test), axis=1)\n",
    "\n",
    "test_mae_loss"
   ]
  },
  {
   "cell_type": "code",
   "execution_count": 121,
   "metadata": {},
   "outputs": [
    {
     "data": {
      "text/plain": [
       "array([[0.10330593],\n",
       "       [0.10338127],\n",
       "       [0.10425287],\n",
       "       ...,\n",
       "       [0.10380742],\n",
       "       [0.10519672],\n",
       "       [0.10460944]])"
      ]
     },
     "execution_count": 121,
     "metadata": {},
     "output_type": "execute_result"
    }
   ],
   "source": [
    "# Reshape the array test_mae_loss. Although this was not done for the training mae loss and seems to make no differece to the historgram\n",
    "#test_mae_loss = test_mae_loss.reshape((-1))\n",
    "\n",
    "test_mae_loss"
   ]
  },
  {
   "cell_type": "code",
   "execution_count": 122,
   "metadata": {},
   "outputs": [
    {
     "data": {
      "image/png": "[encoded data removed]",
      "text/plain": [
       "<Figure size 1000x600 with 1 Axes>"
      ]
     },
     "metadata": {},
     "output_type": "display_data"
    }
   ],
   "source": [
    "# Create mae loss plot\n",
    "fig, ax = plt.subplots(figsize=(10, 6))\n",
    "\n",
    "#plot test mae loss, bin size = 50\n",
    "ax.hist(test_mae_loss, bins=50)\n",
    "\n",
    "# set x label\n",
    "ax.set_xlabel(\"test MAE loss\")\n",
    "\n",
    "# set y label \n",
    "ax.set_ylabel(\"No of samples\");"
   ]
  },
  {
   "cell_type": "code",
   "execution_count": null,
   "metadata": {},
   "outputs": [],
   "source": [
    "Recall from the training MAE loss, all samples were below a threshhold of .119. Ergo, samples above .119 are an anamolous"
   ]
  },
  {
   "cell_type": "code",
   "execution_count": 123,
   "metadata": {},
   "outputs": [
    {
     "data": {
      "text/plain": [
       "396"
      ]
     },
     "execution_count": 123,
     "metadata": {},
     "output_type": "execute_result"
    }
   ],
   "source": [
    "# Detect all the samples which are anomalies.\n",
    "#https://www.analyticsvidhya.com/blog/2022/01/complete-guide-to-anomaly-detection-with-autoencoders-using-tensorflow/\n",
    "anomalies = test_mae_loss > threshold\n",
    "\n",
    "# Number of anomalies.\n",
    "np.sum(anomalies)"
   ]
  },
  {
   "cell_type": "markdown",
   "metadata": {},
   "source": [
    "Identify samples indexes which are anomalies and append to inds"
   ]
  },
  {
   "cell_type": "code",
   "execution_count": 127,
   "metadata": {},
   "outputs": [
    {
     "data": {
      "text/plain": [
       "[2989,\n",
       " 2990,\n",
       " 2991,\n",
       " 2992,\n",
       " 2993,\n",
       " 2994,\n",
       " 2995,\n",
       " 2996,\n",
       " 2997,\n",
       " 2998,\n",
       " 2999,\n",
       " 3000,\n",
       " 3001,\n",
       " 3002,\n",
       " 3003,\n",
       " 3004,\n",
       " 3005,\n",
       " 3006,\n",
       " 3007,\n",
       " 3008,\n",
       " 3009,\n",
       " 3010,\n",
       " 3011,\n",
       " 3012,\n",
       " 3013,\n",
       " 3014,\n",
       " 3015,\n",
       " 3016,\n",
       " 3017,\n",
       " 3018,\n",
       " 3019,\n",
       " 3020,\n",
       " 3021,\n",
       " 3022,\n",
       " 3023,\n",
       " 3024,\n",
       " 3025,\n",
       " 3026,\n",
       " 3027,\n",
       " 3028,\n",
       " 3029,\n",
       " 3030,\n",
       " 3031,\n",
       " 3032,\n",
       " 3033,\n",
       " 3034,\n",
       " 3035,\n",
       " 3036,\n",
       " 3037,\n",
       " 3038,\n",
       " 3039,\n",
       " 3040,\n",
       " 3041,\n",
       " 3042,\n",
       " 3043,\n",
       " 3044,\n",
       " 3045,\n",
       " 3046,\n",
       " 3047,\n",
       " 3048,\n",
       " 3049,\n",
       " 3050,\n",
       " 3051,\n",
       " 3052,\n",
       " 3053,\n",
       " 3054,\n",
       " 3055,\n",
       " 3056,\n",
       " 3057,\n",
       " 3058,\n",
       " 3059,\n",
       " 3060,\n",
       " 3061,\n",
       " 3062,\n",
       " 3063,\n",
       " 3064,\n",
       " 3065,\n",
       " 3066,\n",
       " 3067,\n",
       " 3068,\n",
       " 3069,\n",
       " 3070,\n",
       " 3071,\n",
       " 3072,\n",
       " 3073,\n",
       " 3074,\n",
       " 3075,\n",
       " 3076,\n",
       " 3077,\n",
       " 3078,\n",
       " 3079,\n",
       " 3080,\n",
       " 3081,\n",
       " 3082,\n",
       " 3083,\n",
       " 3084,\n",
       " 3085,\n",
       " 3086,\n",
       " 3087,\n",
       " 3088,\n",
       " 3089,\n",
       " 3090,\n",
       " 3091,\n",
       " 3092,\n",
       " 3093,\n",
       " 3094,\n",
       " 3095,\n",
       " 3096]"
      ]
     },
     "execution_count": 127,
     "metadata": {},
     "output_type": "execute_result"
    }
   ],
   "source": [
    "\n",
    "\n",
    "# data i is an anomaly if samples [(i - timesteps + 1) to (i)] are anomalies\n",
    "#anomolous data indicies\n",
    "inds = []\n",
    "\n",
    "for i in range(window_size - 1, len(df_test_value) - window_size + 1):\n",
    "    if np.all(anomalies[i - window_size + 1 : i]):\n",
    "        inds.append(i)\n",
    "#inds"
   ]
  },
  {
   "cell_type": "code",
   "execution_count": 125,
   "metadata": {},
   "outputs": [],
   "source": [
    "# add anomalies to df from the unstandarised test data\n",
    "df_subset = df_daily_jumpsup.iloc[inds]"
   ]
  },
  {
   "cell_type": "code",
   "execution_count": 126,
   "metadata": {},
   "outputs": [
    {
     "data": {
      "image/png": "[encoded data removed]",
      "text/plain": [
       "<Figure size 1000x600 with 1 Axes>"
      ]
     },
     "metadata": {},
     "output_type": "display_data"
    }
   ],
   "source": [
    "#create plot\n",
    "fig, ax = plt.subplots(figsize=(10, 6))\n",
    "\n",
    "# plot test samples\n",
    "df_daily_jumpsup.plot(legend=False, ax=ax)\n",
    "\n",
    "# plot anomalous samples in red\n",
    "df_subset.plot(legend=False, ax=ax, color=\"r\");"
   ]
  },
  {
   "cell_type": "markdown",
   "metadata": {},
   "source": [
    "***\n",
    "References\n",
    "Demystifying Numenta anomaly benchmark\n",
    "\n",
    "Singh, N. and Olinsky, C. (2017). Demystifying Numenta anomaly benchmark. [online] IEEE Xplore. doi:10.1109/IJCNN.2017.7966038.\n",
    "\n",
    "\n",
    "(Singh and Olinsky, 2017)\n",
    "\n",
    "## End"
   ]
  },
  {
   "cell_type": "code",
   "execution_count": null,
   "metadata": {},
   "outputs": [],
   "source": []
  }
 ],
 "metadata": {
  "kernelspec": {
   "display_name": "Python 3 (ipykernel)",
   "language": "python",
   "name": "python3"
  },
  "language_info": {
   "codemirror_mode": {
    "name": "ipython",
    "version": 3
   },
   "file_extension": ".py",
   "mimetype": "text/x-python",
   "name": "python",
   "nbconvert_exporter": "python",
   "pygments_lexer": "ipython3",
   "version": "3.9.13"
  }
 },
 "nbformat": 4,
 "nbformat_minor": 4
}
