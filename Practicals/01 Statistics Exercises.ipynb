{
 "cells": [
  {
   "cell_type": "markdown",
   "id": "28741faf",
   "metadata": {},
   "source": [
    "## Jon Ishaque \n",
    "## ATU. HDip Dat Analytics Machine Learning and Statistics\n",
    "## 01. Statistics\n"
   ]
  },
  {
   "cell_type": "markdown",
   "id": "fb533458",
   "metadata": {},
   "source": [
    "<h3 style=\"color: #001a79;\">Exercise 1.1</h3>\n",
    "\n",
    "<hr style=\"border-top: 1px solid #001a79;\" />\n",
    "\n",
    "\n",
    "The above gives about a 1.5% chance of randomly selecting the correct cups. Calculate the minimum number of cups of tea required to ensure the probability of randomly selecting the correct cups is less than or equal to 1%.\n",
    "\n"
   ]
  },
  {
   "cell_type": "markdown",
   "id": "ba956bd9",
   "metadata": {},
   "source": [
    "Adapted from:https://stackoverflow.com/a/4941932 to get combinations"
   ]
  },
  {
   "cell_type": "code",
   "execution_count": 1,
   "id": "e6d51f46",
   "metadata": {},
   "outputs": [],
   "source": [
    "#math module\n",
    "from math import comb\n",
    "    "
   ]
  },
  {
   "cell_type": "code",
   "execution_count": 2,
   "id": "b8c610d2",
   "metadata": {},
   "outputs": [
    {
     "data": {
      "text/plain": [
       "70"
      ]
     },
     "execution_count": 2,
     "metadata": {},
     "output_type": "execute_result"
    }
   ],
   "source": [
    "#number of ways of selecting 4 cups from 8\n",
    "comb(8,4)"
   ]
  },
  {
   "cell_type": "code",
   "execution_count": 3,
   "id": "a9c85345",
   "metadata": {},
   "outputs": [
    {
     "data": {
      "text/plain": [
       "252"
      ]
     },
     "execution_count": 3,
     "metadata": {},
     "output_type": "execute_result"
    }
   ],
   "source": [
    "#number of ways of selecting 5 cups from 10\n",
    "comb(10,5)"
   ]
  },
  {
   "cell_type": "code",
   "execution_count": 4,
   "id": "f336c6c3",
   "metadata": {},
   "outputs": [
    {
     "data": {
      "text/plain": [
       "0.003968253968253968"
      ]
     },
     "execution_count": 4,
     "metadata": {},
     "output_type": "execute_result"
    }
   ],
   "source": [
    "#Probability of randomly selecting correct 5 cups is:\n",
    "1.0/comb(10,5)\n",
    "    "
   ]
  },
  {
   "cell_type": "markdown",
   "id": "cfd2ee5e",
   "metadata": {},
   "source": [
    "So, if experiement done with 10 cups total, 5 with milk first, 5 with tea first then the probability of randomly selecting the correct answer is less than 1%.\n",
    "\n",
    "Of course, we could design the experiment with 9 cups in total, 4 tea in first,5 milk in first.\n"
   ]
  },
  {
   "cell_type": "code",
   "execution_count": 5,
   "id": "9792310a",
   "metadata": {},
   "outputs": [
    {
     "data": {
      "text/plain": [
       "0.007936507936507936"
      ]
     },
     "execution_count": 5,
     "metadata": {},
     "output_type": "execute_result"
    }
   ],
   "source": [
    "#randomly select 4 cups from 9\n",
    "#Probability of randomly selecting correct 5 cups is:\n",
    "1.0/comb(9,4)"
   ]
  },
  {
   "cell_type": "markdown",
   "id": "9716d251",
   "metadata": {},
   "source": [
    "This is closer to 1 percent."
   ]
  },
  {
   "cell_type": "code",
   "execution_count": 6,
   "id": "6c31fc17",
   "metadata": {},
   "outputs": [
    {
     "data": {
      "text/plain": [
       "0.007936507936507936"
      ]
     },
     "execution_count": 6,
     "metadata": {},
     "output_type": "execute_result"
    }
   ],
   "source": [
    "#randomly select 5 cups from 9\n",
    "#Probability of randomly selecting correct 5 cups is:\n",
    "1.0/comb(9,5)"
   ]
  },
  {
   "cell_type": "markdown",
   "id": "1b4e9420",
   "metadata": {},
   "source": [
    "This is the same as 4 from 9 as to get the 4 from 9 you will get the 5 other cups from 9."
   ]
  },
  {
   "cell_type": "markdown",
   "id": "84284ec6",
   "metadata": {},
   "source": [
    "\n",
    "<h3 style=\"color: #001a79;\">Bonus:</h3>\n",
    "\n",
    "<hr style=\"border-top: 1px solid #001a79;\" />\n",
    "\n",
    "<i style=\"color: #001a79;\">How many would be required if you were to let the taster get one cup wrong while maintaining the 1% threshold?.</i>"
   ]
  },
  {
   "cell_type": "markdown",
   "id": "6ffab2d0",
   "metadata": {},
   "source": [
    "To  the answer to the bonus question I have used the notebook from the lecture where I define the number of cups in list\n",
    "and the distribution chart which shows the number number of chances of getting 4 right,3 right, 2 right etc.\n",
    "I have repeatedly ran the cells whilst incrementing the number of cups in the list each time until 3 right will maintain a 1% probablity"
   ]
  },
  {
   "cell_type": "code",
   "execution_count": 7,
   "id": "2b104977",
   "metadata": {},
   "outputs": [
    {
     "data": {
      "text/plain": [
       "3060"
      ]
     },
     "execution_count": 7,
     "metadata": {},
     "output_type": "execute_result"
    }
   ],
   "source": [
    "# The labeled cups cups.\n",
    "\n",
    "cups = list(range(18))\n",
    "\n",
    "#number of ways of selecting 4 cups from 18\n",
    "comb(18,4)"
   ]
  },
  {
   "cell_type": "markdown",
   "id": "76ac5c06",
   "metadata": {},
   "source": [
    "The 3060 possibilities can be enumerated using the combinations function from the itertools Python package.\n",
    "\n",
    "It takes a list 𝑙 of items(cups) and a number 𝑛 (4) . It returns/generates each way of selecting 𝑛 unordered items from 𝑙 . "
   ]
  },
  {
   "cell_type": "code",
   "execution_count": 8,
   "id": "8060041c",
   "metadata": {},
   "outputs": [],
   "source": [
    "import itertools\n",
    "#get \n",
    "poss = list(itertools.combinations(cups, 4))\n",
    "#poss #possible combinations"
   ]
  },
  {
   "cell_type": "code",
   "execution_count": 9,
   "id": "15aec38d",
   "metadata": {},
   "outputs": [
    {
     "data": {
      "text/plain": [
       "[Text(0.5, 0, 'No. correct cups'),\n",
       " Text(0, 0.5, 'Possiblities'),\n",
       " Text(0.5, 1.0, 'Distribution chart for Lady Tasting Tea experiment')]"
      ]
     },
     "execution_count": 9,
     "metadata": {},
     "output_type": "execute_result"
    },
    {
     "data": {
      "image/png": "[encoded data removed]",
      "text/plain": [
       "<Figure size 640x480 with 1 Axes>"
      ]
     },
     "metadata": {},
     "output_type": "display_data"
    }
   ],
   "source": [
    "import random\n",
    "import seaborn as sns # for count plot\n",
    "\n",
    "\n",
    "# Pick a random correct answer from the list of 495 to simulate the experiment.\n",
    "milkfirst = set(random.choice(poss)) #\n",
    "\n",
    "\n",
    "#So to allow one wrong cup -  (3 right below) 30 ways of getting 3 cups right (30/330 approx 1%)\n",
    "\n",
    "counts = [len(milkfirst & set(i)) for i in itertools.combinations(cups, 4)]\n",
    "\n",
    "# Creat the plot.\n",
    "tea_exp = sns.countplot(x=counts);\n",
    "\n",
    "tea_exp.set(xlabel =\"No. correct cups\", ylabel = \"Possiblities\", title ='Distribution chart for Lady Tasting Tea experiment')"
   ]
  },
  {
   "cell_type": "code",
   "execution_count": 10,
   "id": "b14f64e9",
   "metadata": {},
   "outputs": [
    {
     "data": {
      "text/plain": [
       "0.9803921568627451"
      ]
     },
     "execution_count": 10,
     "metadata": {},
     "output_type": "execute_result"
    }
   ],
   "source": [
    "30/3060 *100"
   ]
  },
  {
   "cell_type": "markdown",
   "id": "163e3bcf",
   "metadata": {},
   "source": [
    "### Running the experiment with 18 Cups there 30 combinations of one wrong cup out of 3060 possible combinations of 4 cup so to allow one wrong cup the experiment will need 18 cups."
   ]
  },
  {
   "cell_type": "markdown",
   "id": "f28862e0",
   "metadata": {},
   "source": [
    "<h3 style=\"color: #001a79;\">Exercise 1.2</h3>\n",
    "\n",
    "<hr style=\"border-top: 1px solid #001a79;\" />\n",
    "\n",
    "<i style=\"color: #001a79;\">Remember to do these exercises in your own notebook in your assessment repository.</i>\n",
    "\n",
    "Use <a href=\"https://docs.scipy.org/doc/scipy/reference/generated/scipy.stats.fisher_exact.html\" style=\"color: #ff791e\">scipy's version of Fisher's exact test</a> to simulate the Lady Tasting Tea problem."
   ]
  },
  {
   "cell_type": "code",
   "execution_count": 11,
   "id": "d472d09b",
   "metadata": {},
   "outputs": [],
   "source": [
    "#statistical methods.\n",
    "import scipy.stats as ss"
   ]
  },
  {
   "cell_type": "code",
   "execution_count": 12,
   "id": "87196034",
   "metadata": {
    "scrolled": true
   },
   "outputs": [
    {
     "data": {
      "text/plain": [
       "<function scipy.stats.stats.fisher_exact(table, alternative='two-sided')>"
      ]
     },
     "execution_count": 12,
     "metadata": {},
     "output_type": "execute_result"
    }
   ],
   "source": [
    "ss.fisher_exact"
   ]
  },
  {
   "cell_type": "markdown",
   "id": "cb8f1110",
   "metadata": {},
   "source": [
    "So, the SciPy fisher_exact function takes a table and an optional alternaive as parameters."
   ]
  },
  {
   "cell_type": "markdown",
   "id": "5de9e746",
   "metadata": {},
   "source": [
    "To emulate the Tea tasting problem using the fisher_exact function I will need to get this probability.\n",
    "Target: 0.014285714285714285"
   ]
  },
  {
   "cell_type": "markdown",
   "id": "8246e462",
   "metadata": {},
   "source": [
    "The table is a 2-dimensional list. eg [[8,2],[1,5]]\n",
    "In our case the columns could be Tea First, Milk First\n",
    "and the rows could be the actual outcomes.\n",
    "So in this limited table of outcomes(rows) we could say:\n",
    "\n",
    "[4,0] i.e. 4 cups were correctly as Tea First \n",
    "\n",
    "and \n",
    "\n",
    "[0,4] i.e. 4 cups selected as Milk First  \n",
    "\n",
    "The whole list would be: [[4,0],[0,4]]"
   ]
  },
  {
   "cell_type": "code",
   "execution_count": 13,
   "id": "dea3cdc3",
   "metadata": {},
   "outputs": [],
   "source": [
    "#to make make code more efficient I will define the table here\n",
    "table=[[4, 0], [0, 4]]"
   ]
  },
  {
   "cell_type": "code",
   "execution_count": 14,
   "id": "ca1fff24",
   "metadata": {
    "scrolled": true
   },
   "outputs": [
    {
     "data": {
      "text/plain": [
       "(inf, 0.028571428571428536)"
      ]
     },
     "execution_count": 14,
     "metadata": {},
     "output_type": "execute_result"
    }
   ],
   "source": [
    "ss.fisher_exact(table)"
   ]
  },
  {
   "cell_type": "code",
   "execution_count": 15,
   "id": "c6a263ac",
   "metadata": {},
   "outputs": [
    {
     "data": {
      "text/plain": [
       "0.02857142857142857"
      ]
     },
     "execution_count": 15,
     "metadata": {},
     "output_type": "execute_result"
    }
   ],
   "source": [
    "0.014285714285714285 * 2 #fisher comes out 2 x prob from lecture content."
   ]
  },
  {
   "cell_type": "markdown",
   "id": "bfbd0050",
   "metadata": {},
   "source": [
    "When I use the 'greater' alternative parameter I get 1.4 percent probabability. Why?"
   ]
  },
  {
   "cell_type": "code",
   "execution_count": 16,
   "id": "f20c98c2",
   "metadata": {},
   "outputs": [
    {
     "data": {
      "text/plain": [
       "(inf, 0.014285714285714268)"
      ]
     },
     "execution_count": 16,
     "metadata": {},
     "output_type": "execute_result"
    }
   ],
   "source": [
    "ss.fisher_exact(table,'greater')"
   ]
  },
  {
   "cell_type": "markdown",
   "id": "57154d9f",
   "metadata": {},
   "source": [
    "Because it is the alternavive hypothesis, Fisher's hypotheses was the Null hypotheses that the lady could not tell how which was poured first. The alternative is that she can tell, and there is a 1.4 percent that would occur randomly. So what is the first number returned without an alternative parameter, i.e, 0.02857142857142857."
   ]
  },
  {
   "cell_type": "code",
   "execution_count": 17,
   "id": "bd4fcdde",
   "metadata": {
    "scrolled": true
   },
   "outputs": [
    {
     "data": {
      "text/plain": [
       "(inf, 0.028571428571428536)"
      ]
     },
     "execution_count": 17,
     "metadata": {},
     "output_type": "execute_result"
    }
   ],
   "source": [
    "ss.fisher_exact(table,'two-sided')"
   ]
  },
  {
   "cell_type": "markdown",
   "id": "fb63f666",
   "metadata": {},
   "source": [
    "According to the documentation is the default alternative hypotheses'two-sided'. As our experiment is symetric, that is 4 right cups is the same as 4 wrong cups, I think the 2.8 percent probability is that of having 4 right or 4 wrong."
   ]
  },
  {
   "cell_type": "markdown",
   "id": "51f0bc3e-62c8-4b0d-a018-0ef3b362e427",
   "metadata": {},
   "source": [
    "<h3 style=\"color: #001a79;\">Exercise</h3>\n",
    "\n",
    "<hr style=\"border-top: 1px solid #001a79;\" />\n",
    "\n",
    "\n",
    "Take the code from the <a href=\"https://docs.scipy.org/doc/scipy/reference/generated/scipy.stats.ttest_ind.html\" style=\"color: #ff791e\">Examples section of the scipy stats documentation for independent samples t-tests</a>, add it to your own notebook and add explain how it works using MarkDown cells and code comments. Improve it in any way you think it could be improved."
   ]
  },
  {
   "cell_type": "code",
   "execution_count": 18,
   "id": "68279b1b",
   "metadata": {},
   "outputs": [],
   "source": [
    "from scipy import stats as ss\n",
    "import numpy as np\n",
    "\n",
    "# Data frames.\n",
    "import pandas as pd\n",
    "\n",
    "# Plotting.\n",
    "import matplotlib.pyplot as plt\n",
    "\n",
    "# Fancier plotting.\n",
    "import seaborn as sns\n",
    "\n",
    "#use numpy random number generator.\n",
    "rng = np.random.default_rng()\n",
    "\n",
    "# Plotting.\n",
    "import matplotlib.pyplot as plt\n",
    "\n",
    "# Alternative statistics package.\n",
    "import statsmodels.stats.weightstats as stat\n"
   ]
  },
  {
   "cell_type": "markdown",
   "id": "ca1648b7-5557-4ad6-b929-8a1da86ba231",
   "metadata": {},
   "source": [
    "### 1. Independend t-test on values with same mean\n",
    "Perform independent t-test also known as two sample t-test to test how similar the means of the samples are (or are not):\n",
    "In this case the means are identical"
   ]
  },
  {
   "cell_type": "code",
   "execution_count": 19,
   "id": "6dd70b6f-fc28-4c80-8db4-d1733bce7230",
   "metadata": {
    "tags": []
   },
   "outputs": [
    {
     "name": "stdout",
     "output_type": "stream",
     "text": [
      "t-value: 0.05689157764106276\tp-value: 0.9547473985660614\n",
      "P_scipy: 0.95\n"
     ]
    }
   ],
   "source": [
    "\n",
    "#loc=mean, scale=SD, size=sample size\n",
    "\n",
    "a = np.random.normal(loc=5, scale=10, size=50)\n",
    "b = np.random.normal(loc=5, scale=10, size=50)\n",
    "\n",
    "#compare two characateristics of two samples \n",
    "#But if the sample means are the same\n",
    "#the null hypotheses is: \n",
    "\n",
    "t_ss, p_ss =ss.ttest_ind(a, b)\n",
    "\n",
    "print(f\"t-value: {t_ss}\\tp-value: {p_ss}\")\n",
    "print(f\"P_scipy: {p_ss:0.2f}\")"
   ]
  },
  {
   "cell_type": "code",
   "execution_count": 20,
   "id": "430e763e-4cb5-4013-8e0f-4421e301da94",
   "metadata": {},
   "outputs": [
    {
     "name": "stdout",
     "output_type": "stream",
     "text": [
      "t-value: 0.05689157764106319\tp-value: 0.9547473985660611\tDeg Free: 98.0\n",
      "P_statsmodels: 0.95\n"
     ]
    }
   ],
   "source": [
    "#Also run the stats_model version to get degrees of freedom, \"the number of values that are free to vary,i.e sample size minus 2\"\n",
    "t_sm, p_sm, d_sm = stat.ttest_ind(a, b)\n",
    "print(f\"t-value: {t_sm}\\tp-value: {p_sm}\\tDeg Free: {d_sm}\")\n",
    "print(f\"P_statsmodels: {p_sm:0.2f}\")\n"
   ]
  },
  {
   "cell_type": "markdown",
   "id": "c20715e1-5ff2-45a0-9bcf-b5dae85dddc1",
   "metadata": {},
   "source": [
    "Uncomment the code in the next cell to view the data"
   ]
  },
  {
   "cell_type": "code",
   "execution_count": 21,
   "id": "fc5c915d-8e95-43c2-8a6a-1b325a6d2fdd",
   "metadata": {},
   "outputs": [
    {
     "data": {
      "text/plain": [
       "\"# Stick both samples in one data frame.col category, value\\ndf = pd.DataFrame({'Category': ['A'] * len(a) + ['B'] * len(b), 'Value': np.hstack([a,b])})\\n#view the data\\ndf\\nsns.catplot(x='Category', y='Value', jitter=False, data=df);\""
      ]
     },
     "execution_count": 21,
     "metadata": {},
     "output_type": "execute_result"
    }
   ],
   "source": [
    "'''# Stick both samples in one data frame.col category, value\n",
    "df = pd.DataFrame({'Category': ['A'] * len(a) + ['B'] * len(b), 'Value': np.hstack([a,b])})\n",
    "#view the data\n",
    "df\n",
    "sns.catplot(x='Category', y='Value', jitter=False, data=df);'''"
   ]
  },
  {
   "cell_type": "code",
   "execution_count": 22,
   "id": "5b74a4eb-d857-4776-b763-ae71db4b5621",
   "metadata": {},
   "outputs": [
    {
     "data": {
      "text/plain": [
       "'The calculated t value is then compared to the critical t value from the t distribution table with degrees of freedom df = n1 + n2 - 2'"
      ]
     },
     "execution_count": 22,
     "metadata": {},
     "output_type": "execute_result"
    }
   ],
   "source": [
    "\n",
    "\"The calculated t value is then compared to the critical t value from the t distribution table with degrees of freedom df = n1 + n2 - 2\""
   ]
  },
  {
   "cell_type": "markdown",
   "id": "5e1f8d6c-3ee5-4958-b282-b4e5ffba44ad",
   "metadata": {},
   "source": [
    "The critical value is used to make a decision regarding the calculation of the  𝑡  statistic from the samples.\n",
    "It is the value above or below which we make a judgement on the hypotheses\n",
    "If the null hypotheses is that the means are the same (they are in this case) and the t statistic falls in between the central part of the curve(white space) then we accept null hypothesis"
   ]
  },
  {
   "cell_type": "code",
   "execution_count": 23,
   "id": "7f8e620d-574a-40ca-9c7d-8455bf9fad11",
   "metadata": {},
   "outputs": [
    {
     "data": {
      "image/png": "[encoded data removed]",
      "text/plain": [
       "<Figure size 1000x600 with 1 Axes>"
      ]
     },
     "metadata": {},
     "output_type": "display_data"
    }
   ],
   "source": [
    "# The critical probability value.\n",
    "# p value below which you reject thenull hypotheses\n",
    "t_ss, p_ss = ss.ttest_ind(a, b)\n",
    "\n",
    "critical = 0.05\n",
    "\n",
    "# Create the figure.\n",
    "fig, ax = plt.subplots(figsize=(10,6))\n",
    "\n",
    "# A range of x-values - these represent the t statistic.\n",
    "min_x = -5.0\n",
    "max_x = 5.0\n",
    "x = np.linspace(min_x, max_x, 1000)\n",
    "\n",
    "# The probability density function of the t statistic.\n",
    "# Here we use the degrees of freedom from above.\n",
    "t = ss.t.pdf(x, d_sm)\n",
    "# Plot it.\n",
    "ax.plot(x, t, color='red')\n",
    "\n",
    "# Get the tails.\n",
    "tf = pd.DataFrame({'x': x, 't': t})\n",
    "tcrit = abs(ss.t.ppf(critical / 2.0, d_sm))\n",
    "tail_one = tf[tf['x'] >= tcrit]\n",
    "tail_two = tf[tf['x'] <= -tcrit]\n",
    "# Plot them.\n",
    "ax.fill_between(tail_one['x'], tail_one['t'], 0, facecolor=\"red\")\n",
    "ax.fill_between(tail_two['x'], tail_two['t'], 0, facecolor=\"red\")\n",
    "\n",
    "plt.show()"
   ]
  },
  {
   "cell_type": "markdown",
   "id": "001c815f-1c39-43f1-a272-b2578fa6a84e",
   "metadata": {},
   "source": [
    "### 2. Independend t-test on values with different means"
   ]
  },
  {
   "cell_type": "code",
   "execution_count": 24,
   "id": "aff264b7-df01-445b-8df3-46a13d320275",
   "metadata": {},
   "outputs": [
    {
     "name": "stdout",
     "output_type": "stream",
     "text": [
      "t-value: -1.5477753679821433\tp-value: 0.12489977372960984\n",
      "P_scipy: 0.12\n"
     ]
    }
   ],
   "source": [
    "#loc=mean, scale=SD, size=sample size\n",
    "\n",
    "a = np.random.normal(loc=5, scale=10, size=50)\n",
    "c = np.random.normal(loc=10, scale=10, size=50)\n",
    "\n",
    "#compare two characateristics of two samples \n",
    "#But if the sample means are the same\n",
    "#the null hypotheses is: \n",
    "\n",
    "t_ss, p_ss =ss.ttest_ind(a, c)\n",
    "\n",
    "print(f\"t-value: {t_ss}\\tp-value: {p_ss}\")\n",
    "print(f\"P_scipy: {p_ss:0.2f}\")"
   ]
  },
  {
   "cell_type": "code",
   "execution_count": 25,
   "id": "c778de30-50f9-4920-91d6-3cd6fb89aa1b",
   "metadata": {},
   "outputs": [
    {
     "data": {
      "image/png": "[encoded data removed]",
      "text/plain": [
       "<Figure size 1000x600 with 1 Axes>"
      ]
     },
     "metadata": {},
     "output_type": "display_data"
    }
   ],
   "source": [
    "# The critical probability value.\n",
    "# p value below which you reject thenull hypotheses\n",
    "t_ss, p_ss = ss.ttest_ind(a, b)\n",
    "\n",
    "critical = 0.05\n",
    "\n",
    "# Create the figure.\n",
    "fig, ax = plt.subplots(figsize=(10,6))\n",
    "\n",
    "# A range of x-values - these represent the t statistic.\n",
    "min_x = -5.0\n",
    "max_x = 5.0\n",
    "x = np.linspace(min_x, max_x, 1000)\n",
    "\n",
    "# The probability density function of the t statistic.\n",
    "# Here we use the degrees of freedom from above.\n",
    "t = ss.t.pdf(x, d_sm)\n",
    "# Plot it.\n",
    "ax.plot(x, t, color='red')\n",
    "\n",
    "# Get the tails.\n",
    "tf = pd.DataFrame({'x': x, 't': t})\n",
    "tcrit = abs(ss.t.ppf(critical / 2.0, d_sm))\n",
    "tail_one = tf[tf['x'] >= tcrit]\n",
    "tail_two = tf[tf['x'] <= -tcrit]\n",
    "# Plot them.\n",
    "ax.fill_between(tail_one['x'], tail_one['t'], 0, facecolor=\"red\")\n",
    "ax.fill_between(tail_two['x'], tail_two['t'], 0, facecolor=\"red\")\n",
    "\n",
    "plt.show()"
   ]
  },
  {
   "cell_type": "markdown",
   "id": "7a7ca7c3-e155-4b30-a270-6f3d826da3d8",
   "metadata": {},
   "source": [
    "The t statistic falls is less than -2 or greater than 2 - urgo our samples probably have different means."
   ]
  },
  {
   "cell_type": "code",
   "execution_count": null,
   "id": "7cf1608f-94f5-41d8-9819-2ec6539e7c60",
   "metadata": {},
   "outputs": [],
   "source": []
  },
  {
   "cell_type": "markdown",
   "id": "0e020e94-379d-4b2a-98dd-35a717f2a972",
   "metadata": {
    "tags": []
   },
   "source": [
    "### 3. ttest_ind underestimates p for unequal variances:\n",
    "\n",
    "default is true, if false\"If False, perform Welch’s t-test, which does not assume equal population variance [2].\""
   ]
  },
  {
   "cell_type": "code",
   "execution_count": 32,
   "id": "61f6db47-238a-4575-aa45-753197c05f5e",
   "metadata": {},
   "outputs": [
    {
     "data": {
      "text/plain": [
       "Ttest_indResult(statistic=-0.22562537873864955, pvalue=0.8219626617987491)"
      ]
     },
     "execution_count": 32,
     "metadata": {},
     "output_type": "execute_result"
    }
   ],
   "source": [
    "#set new sample with different SD \n",
    "a = np.random.normal(loc=5, scale=10, size=50)\n",
    "d= np.random.normal(loc=5, scale=30, size=50) \n",
    "#unequal var, but default is true = var\n",
    "ss.ttest_ind(a, d)"
   ]
  },
  {
   "cell_type": "code",
   "execution_count": 33,
   "id": "bb785d7e-61a5-4c68-8041-1b46f608873e",
   "metadata": {},
   "outputs": [
    {
     "data": {
      "text/plain": [
       "Ttest_indResult(statistic=-0.22562537873864955, pvalue=0.822234023630102)"
      ]
     },
     "execution_count": 33,
     "metadata": {},
     "output_type": "execute_result"
    }
   ],
   "source": [
    "#unequal variance , set as false (same mean)\n",
    "#The p value is considered to be more accurate\n",
    "ss.ttest_ind(a, d, equal_var=False)"
   ]
  },
  {
   "cell_type": "markdown",
   "id": "0f35586a-a5b6-4943-8b75-38955b204cc1",
   "metadata": {},
   "source": [
    "### 4. When n1 != n2, the equal variance t-statistic is no longer equal to the unequal variance t-statistic:"
   ]
  },
  {
   "cell_type": "markdown",
   "id": "323c52d6-a146-4d28-bcb9-a8ebe78e0774",
   "metadata": {},
   "source": [
    "When n1 != n2, the equal variance t-statistic is no longer equal to the unequal variance t-statistic:\n",
    "i.e. the sample sizes are different\n"
   ]
  },
  {
   "cell_type": "code",
   "execution_count": 35,
   "id": "70c4eeec-7762-4dd6-b473-730a06db6338",
   "metadata": {},
   "outputs": [
    {
     "data": {
      "text/plain": [
       "Ttest_indResult(statistic=0.324991784774508, pvalue=0.7456462336721538)"
      ]
     },
     "execution_count": 35,
     "metadata": {},
     "output_type": "execute_result"
    }
   ],
   "source": [
    "a = np.random.normal(loc=5, scale=10, size=50)\n",
    "e= np.random.normal(loc=5, scale=20, size=100) \n",
    "ss.ttest_ind(a, e)\n"
   ]
  },
  {
   "cell_type": "code",
   "execution_count": 37,
   "id": "015ba505-e3cc-4224-8889-da684c4c13b5",
   "metadata": {},
   "outputs": [
    {
     "data": {
      "text/plain": [
       "Ttest_indResult(statistic=-1.6492431565916768, pvalue=0.10124893675965749)"
      ]
     },
     "execution_count": 37,
     "metadata": {},
     "output_type": "execute_result"
    }
   ],
   "source": [
    "e= np.random.normal(loc=5, scale=20, size=100) \n",
    "ss.ttest_ind(a, e, equal_var=False )"
   ]
  },
  {
   "cell_type": "markdown",
   "id": "274f0bcc-4dc6-4667-8c2a-91e1136e3787",
   "metadata": {},
   "source": [
    "### 5. T-test with different means, variance, and n:"
   ]
  },
  {
   "cell_type": "code",
   "execution_count": 41,
   "id": "532d7cd6-8bfa-41ba-895d-1b211d56906e",
   "metadata": {},
   "outputs": [
    {
     "data": {
      "text/plain": [
       "Ttest_indResult(statistic=-1.8982072114020976, pvalue=0.05962343283161759)"
      ]
     },
     "execution_count": 41,
     "metadata": {},
     "output_type": "execute_result"
    }
   ],
   "source": [
    "a = np.random.normal(loc=5, scale=10, size=50)\n",
    "f = np.random.normal(loc=8, scale=20, size=100)\n",
    "ss.ttest_ind(a, f,equal_var=False )"
   ]
  },
  {
   "cell_type": "code",
   "execution_count": 42,
   "id": "58ead694-ee8e-4b78-80dd-61bb1b18bb78",
   "metadata": {},
   "outputs": [
    {
     "data": {
      "text/plain": [
       "Ttest_indResult(statistic=-1.5238181844924146, pvalue=0.12968808670585133)"
      ]
     },
     "execution_count": 42,
     "metadata": {},
     "output_type": "execute_result"
    }
   ],
   "source": [
    "ss.ttest_ind(a, f)"
   ]
  },
  {
   "cell_type": "markdown",
   "id": "e965dfb0-03ca-4d3c-9c2a-0497c8d89249",
   "metadata": {},
   "source": [
    "### 6. Increase permutations to get more accurate results"
   ]
  },
  {
   "cell_type": "markdown",
   "id": "b6b2ea5c-63eb-4311-bc47-98cf54307ddf",
   "metadata": {},
   "source": [
    "When performing a permutation test, more permutations typically yields more accurate results. Use a np.random.Generator to ensure reproducibility:\n",
    "The statistic seems to remain the same but the pvalue appears to be more accurate - more decimal places returned."
   ]
  },
  {
   "cell_type": "code",
   "execution_count": 44,
   "id": "873f2475-af85-4448-88ac-ad3a779cb8f8",
   "metadata": {},
   "outputs": [
    {
     "data": {
      "text/plain": [
       "Ttest_indResult(statistic=-1.5238181844924146, pvalue=0.1352)"
      ]
     },
     "execution_count": 44,
     "metadata": {},
     "output_type": "execute_result"
    }
   ],
   "source": [
    "\n",
    "ss.ttest_ind(a, f, permutations=10000,\n",
    "                random_state=rng)\n"
   ]
  },
  {
   "cell_type": "code",
   "execution_count": 45,
   "id": "44f848bb-b4da-472e-adb6-1aca187034c4",
   "metadata": {},
   "outputs": [
    {
     "data": {
      "text/plain": [
       "Ttest_indResult(statistic=-1.5238181844924146, pvalue=0.12)"
      ]
     },
     "execution_count": 45,
     "metadata": {},
     "output_type": "execute_result"
    }
   ],
   "source": [
    "ss.ttest_ind(a, f, permutations=100,\n",
    "                random_state=rng)"
   ]
  },
  {
   "cell_type": "markdown",
   "id": "f5a183e8-199b-48c1-9589-e8c43c066050",
   "metadata": {},
   "source": [
    "### 7. Using the trim to trim extreme tails (Yuen test)."
   ]
  },
  {
   "cell_type": "code",
   "execution_count": null,
   "id": "f92f6dd3-a223-47ff-b6fe-2959a77072df",
   "metadata": {},
   "outputs": [],
   "source": [
    "Take these two samples, one of which has an extreme tail."
   ]
  },
  {
   "cell_type": "code",
   "execution_count": 51,
   "id": "85d7b8f8-3d08-4b6f-b24d-93d9f3643e1e",
   "metadata": {},
   "outputs": [],
   "source": [
    "g = (56, 128.6, 12, 123.8, 64.34, 78, 763.3)\n",
    "h = (1.1, 2.9, 4.2)"
   ]
  },
  {
   "cell_type": "markdown",
   "id": "4f1952b2-87eb-4725-b162-7f2fca927433",
   "metadata": {},
   "source": [
    "Use the trim keyword to perform a trimmed (Yuen) t-test. For example, using 20% trimming, trim=.2, the test will reduce the impact of one (np.floor(trim*len(a))) element from each tail of sample a. It will have no effect on sample b because np.floor(trim*len(b)) is 0."
   ]
  },
  {
   "cell_type": "code",
   "execution_count": 52,
   "id": "34bf48b8-07c2-4c5c-991d-2871d38087d9",
   "metadata": {},
   "outputs": [
    {
     "data": {
      "text/plain": [
       "Ttest_indResult(statistic=3.4463884028073513, pvalue=0.01369338726499547)"
      ]
     },
     "execution_count": 52,
     "metadata": {},
     "output_type": "execute_result"
    }
   ],
   "source": [
    "ss.ttest_ind(g, h, trim=.2)\n"
   ]
  },
  {
   "cell_type": "code",
   "execution_count": 54,
   "id": "29cf2c38-823a-4853-9165-d68c64b4ca01",
   "metadata": {},
   "outputs": [
    {
     "data": {
      "text/plain": [
       "Ttest_indResult(statistic=1.099305186099593, pvalue=0.30361296704535845)"
      ]
     },
     "execution_count": 54,
     "metadata": {},
     "output_type": "execute_result"
    }
   ],
   "source": [
    "ss.ttest_ind(g, h) #without the trim the sets are far less likely to have the same mean"
   ]
  },
  {
   "cell_type": "markdown",
   "id": "8b9ab72c-6dfd-44e3-a347-2ab16224b675",
   "metadata": {},
   "source": [
    "https://libguides.library.kent.edu/spss/independentttest#:~:text=The%20Independent%20Samples%20t%20Test%20is%20commonly%20used%20to%20test,means%20of%20two%20change%20scores\n",
    "\n",
    "https://docs.scipy.org/doc/scipy/reference/generated/scipy.stats.ttest_ind.html#r3566833beaa2-2\n",
    "\n",
    "https://towardsdatascience.com/the-power-of-permutation-testing-c2ac66f2d166"
   ]
  },
  {
   "cell_type": "code",
   "execution_count": null,
   "id": "e6069213-19cb-4e1d-bea4-7555022039d7",
   "metadata": {},
   "outputs": [],
   "source": []
  },
  {
   "cell_type": "code",
   "execution_count": null,
   "id": "9e9cc189-a464-4342-904f-aaee2b7a4d9f",
   "metadata": {},
   "outputs": [],
   "source": []
  }
 ],
 "metadata": {
  "kernelspec": {
   "display_name": "Python 3 (ipykernel)",
   "language": "python",
   "name": "python3"
  },
  "language_info": {
   "codemirror_mode": {
    "name": "ipython",
    "version": 3
   },
   "file_extension": ".py",
   "mimetype": "text/x-python",
   "name": "python",
   "nbconvert_exporter": "python",
   "pygments_lexer": "ipython3",
   "version": "3.9.13"
  }
 },
 "nbformat": 4,
 "nbformat_minor": 5
}
