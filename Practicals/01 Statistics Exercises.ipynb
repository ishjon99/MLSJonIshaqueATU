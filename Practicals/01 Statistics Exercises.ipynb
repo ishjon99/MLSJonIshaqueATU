{
 "cells": [
  {
   "cell_type": "markdown",
   "id": "28741faf",
   "metadata": {},
   "source": [
    "## Jon Ishaque \n",
    "## ATU. HDip Dat Analytics Machine Learning and Statistics\n",
    "## 01. Statistics\n"
   ]
  },
  {
   "cell_type": "markdown",
   "id": "fb533458",
   "metadata": {},
   "source": [
    "<h3 style=\"color: #001a79;\">Exercise 1.1</h3>\n",
    "\n",
    "<hr style=\"border-top: 1px solid #001a79;\" />\n",
    "\n",
    "\n",
    "The above gives about a 1.5% chance of randomly selecting the correct cups. Calculate the minimum number of cups of tea required to ensure the probability of randomly selecting the correct cups is less than or equal to 1%.\n",
    "\n"
   ]
  },
  {
   "cell_type": "markdown",
   "id": "ba956bd9",
   "metadata": {},
   "source": [
    "Adapted from:https://stackoverflow.com/a/4941932 to get combinations"
   ]
  },
  {
   "cell_type": "code",
   "execution_count": 1,
   "id": "e6d51f46",
   "metadata": {},
   "outputs": [],
   "source": [
    "#math module\n",
    "from math import comb\n",
    "    "
   ]
  },
  {
   "cell_type": "code",
   "execution_count": 2,
   "id": "b8c610d2",
   "metadata": {},
   "outputs": [
    {
     "data": {
      "text/plain": [
       "70"
      ]
     },
     "execution_count": 2,
     "metadata": {},
     "output_type": "execute_result"
    }
   ],
   "source": [
    "#number of ways of selecting 4 cups from 8\n",
    "comb(8,4)"
   ]
  },
  {
   "cell_type": "code",
   "execution_count": 3,
   "id": "a9c85345",
   "metadata": {},
   "outputs": [
    {
     "data": {
      "text/plain": [
       "252"
      ]
     },
     "execution_count": 3,
     "metadata": {},
     "output_type": "execute_result"
    }
   ],
   "source": [
    "#number of ways of selecting 5 cups from 10\n",
    "comb(10,5)"
   ]
  },
  {
   "cell_type": "code",
   "execution_count": 4,
   "id": "f336c6c3",
   "metadata": {},
   "outputs": [
    {
     "data": {
      "text/plain": [
       "0.003968253968253968"
      ]
     },
     "execution_count": 4,
     "metadata": {},
     "output_type": "execute_result"
    }
   ],
   "source": [
    "#Probability of randomly selecting correct 5 cups is:\n",
    "1.0/comb(10,5)\n",
    "    "
   ]
  },
  {
   "cell_type": "markdown",
   "id": "cfd2ee5e",
   "metadata": {},
   "source": [
    "So, if experiement done with 10 cups total, 5 with milk first, 5 with tea first then the probability of randomly selecting the correct answer is less than 1%.\n",
    "\n",
    "Of course, we could design the experiment with 9 cups in total, 4 tea in first,5 milk in first.\n"
   ]
  },
  {
   "cell_type": "code",
   "execution_count": 5,
   "id": "9792310a",
   "metadata": {},
   "outputs": [
    {
     "data": {
      "text/plain": [
       "0.007936507936507936"
      ]
     },
     "execution_count": 5,
     "metadata": {},
     "output_type": "execute_result"
    }
   ],
   "source": [
    "#randomly select 4 cups from 9\n",
    "#Probability of randomly selecting correct 5 cups is:\n",
    "1.0/comb(9,4)"
   ]
  },
  {
   "cell_type": "markdown",
   "id": "9716d251",
   "metadata": {},
   "source": [
    "This is closer to 1 percent."
   ]
  },
  {
   "cell_type": "code",
   "execution_count": 6,
   "id": "6c31fc17",
   "metadata": {},
   "outputs": [
    {
     "data": {
      "text/plain": [
       "0.007936507936507936"
      ]
     },
     "execution_count": 6,
     "metadata": {},
     "output_type": "execute_result"
    }
   ],
   "source": [
    "#randomly select 5 cups from 9\n",
    "#Probability of randomly selecting correct 5 cups is:\n",
    "1.0/comb(9,5)"
   ]
  },
  {
   "cell_type": "markdown",
   "id": "1b4e9420",
   "metadata": {},
   "source": [
    "This is the same as 4 from 9 as to get the 4 from 9 you will get the 5 other cups from 9."
   ]
  },
  {
   "cell_type": "markdown",
   "id": "84284ec6",
   "metadata": {},
   "source": [
    "\n",
    "<h3 style=\"color: #001a79;\">Bonus:</h3>\n",
    "\n",
    "<hr style=\"border-top: 1px solid #001a79;\" />\n",
    "\n",
    "<i style=\"color: #001a79;\">How many would be required if you were to let the taster get one cup wrong while maintaining the 1% threshold?.</i>"
   ]
  },
  {
   "cell_type": "markdown",
   "id": "6ffab2d0",
   "metadata": {},
   "source": [
    "To  the answer to the bonus question I have used the notebook from the lecture where I define the number of cups in list\n",
    "and the distribution chart which shows the number number of chances of getting 4 right,3 right, 2 right etc.\n",
    "I have repeatedly ran the cells whilst incrementing the number of cups in the list each time until 3 right will maintain a 1% probablity"
   ]
  },
  {
   "cell_type": "code",
   "execution_count": 7,
   "id": "2b104977",
   "metadata": {},
   "outputs": [
    {
     "data": {
      "text/plain": [
       "3060"
      ]
     },
     "execution_count": 7,
     "metadata": {},
     "output_type": "execute_result"
    }
   ],
   "source": [
    "# The labeled cups cups.\n",
    "\n",
    "cups = list(range(18))\n",
    "\n",
    "#number of ways of selecting 4 cups from 18\n",
    "comb(18,4)"
   ]
  },
  {
   "cell_type": "markdown",
   "id": "76ac5c06",
   "metadata": {},
   "source": [
    "The 3060 possibilities can be enumerated using the combinations function from the itertools Python package.\n",
    "\n",
    "It takes a list 𝑙 of items(cups) and a number 𝑛 (4) . It returns/generates each way of selecting 𝑛 unordered items from 𝑙 . "
   ]
  },
  {
   "cell_type": "code",
   "execution_count": 8,
   "id": "8060041c",
   "metadata": {},
   "outputs": [],
   "source": [
    "import itertools\n",
    "#get \n",
    "poss = list(itertools.combinations(cups, 4))\n",
    "#poss #possible combinations"
   ]
  },
  {
   "cell_type": "code",
   "execution_count": 9,
   "id": "15aec38d",
   "metadata": {
    "scrolled": false
   },
   "outputs": [
    {
     "data": {
      "text/plain": [
       "[Text(0.5, 0, 'No. correct cups'),\n",
       " Text(0, 0.5, 'Possiblities'),\n",
       " Text(0.5, 1.0, 'Distribution chart for Lady Tasting Tea experiment')]"
      ]
     },
     "execution_count": 9,
     "metadata": {},
     "output_type": "execute_result"
    },
    {
     "data": {
      "image/png": "[encoded data removed]",
      "text/plain": [
       "<Figure size 640x480 with 1 Axes>"
      ]
     },
     "metadata": {},
     "output_type": "display_data"
    }
   ],
   "source": [
    "import random\n",
    "import seaborn as sns # for count plot\n",
    "\n",
    "\n",
    "# Pick a random correct answer from the list of 495 to simulate the experiment.\n",
    "milkfirst = set(random.choice(poss)) #\n",
    "\n",
    "\n",
    "#So to allow one wrong cup -  (3 right below) 30 ways of getting 3 cups right (30/330 approx 1%)\n",
    "\n",
    "counts = [len(milkfirst & set(i)) for i in itertools.combinations(cups, 4)]\n",
    "\n",
    "# Creat the plot.\n",
    "tea_exp = sns.countplot(x=counts);\n",
    "\n",
    "tea_exp.set(xlabel =\"No. correct cups\", ylabel = \"Possiblities\", title ='Distribution chart for Lady Tasting Tea experiment')"
   ]
  },
  {
   "cell_type": "code",
   "execution_count": 10,
   "id": "b14f64e9",
   "metadata": {},
   "outputs": [
    {
     "data": {
      "text/plain": [
       "0.9803921568627451"
      ]
     },
     "execution_count": 10,
     "metadata": {},
     "output_type": "execute_result"
    }
   ],
   "source": [
    "30/3060 *100"
   ]
  },
  {
   "cell_type": "markdown",
   "id": "163e3bcf",
   "metadata": {},
   "source": [
    "### Running the experiment with 18 Cups there 30 combinations of one wrong cup out of 3060 possible combinations of 4 cup so to allow one wrong cup the experiment will need 18 cups."
   ]
  },
  {
   "cell_type": "markdown",
   "id": "f28862e0",
   "metadata": {},
   "source": [
    "<h3 style=\"color: #001a79;\">Exercise 1.2</h3>\n",
    "\n",
    "<hr style=\"border-top: 1px solid #001a79;\" />\n",
    "\n",
    "<i style=\"color: #001a79;\">Remember to do these exercises in your own notebook in your assessment repository.</i>\n",
    "\n",
    "Use <a href=\"https://docs.scipy.org/doc/scipy/reference/generated/scipy.stats.fisher_exact.html\" style=\"color: #ff791e\">scipy's version of Fisher's exact test</a> to simulate the Lady Tasting Tea problem."
   ]
  },
  {
   "cell_type": "code",
   "execution_count": 11,
   "id": "d472d09b",
   "metadata": {},
   "outputs": [],
   "source": [
    "#statistical methods.\n",
    "import scipy.stats as ss"
   ]
  },
  {
   "cell_type": "code",
   "execution_count": 12,
   "id": "87196034",
   "metadata": {
    "scrolled": true
   },
   "outputs": [
    {
     "data": {
      "text/plain": [
       "<function scipy.stats.stats.fisher_exact(table, alternative='two-sided')>"
      ]
     },
     "execution_count": 12,
     "metadata": {},
     "output_type": "execute_result"
    }
   ],
   "source": [
    "ss.fisher_exact"
   ]
  },
  {
   "cell_type": "markdown",
   "id": "cb8f1110",
   "metadata": {},
   "source": [
    "So, the SciPy fisher_exact function takes a table and an optional alternaive as parameters."
   ]
  },
  {
   "cell_type": "markdown",
   "id": "5de9e746",
   "metadata": {},
   "source": [
    "To emulate the Tea tasting problem using the fisher_exact function I will need to get this probability.\n",
    "Target: 0.014285714285714285"
   ]
  },
  {
   "cell_type": "markdown",
   "id": "8246e462",
   "metadata": {},
   "source": [
    "The table is a 2-dimensional list. eg [[8,2],[1,5]]\n",
    "In our case the columns could be Tea First, Milk First\n",
    "and the rows could be the actual outcomes.\n",
    "So in this limited table of outcomes(rows) we could say:\n",
    "\n",
    "[4,0] i.e. 4 cups were correctly as Tea First \n",
    "\n",
    "and \n",
    "\n",
    "[0,4] i.e. 4 cups selected as Milk First  \n",
    "\n",
    "The whole list would be: [[4,0],[0,4]]"
   ]
  },
  {
   "cell_type": "code",
   "execution_count": 19,
   "id": "dea3cdc3",
   "metadata": {},
   "outputs": [],
   "source": [
    "#to make make code more efficient I will define the table here\n",
    "table=[[4, 0], [0, 4]]"
   ]
  },
  {
   "cell_type": "code",
   "execution_count": 20,
   "id": "ca1fff24",
   "metadata": {
    "scrolled": true
   },
   "outputs": [
    {
     "data": {
      "text/plain": [
       "(inf, 0.028571428571428536)"
      ]
     },
     "execution_count": 20,
     "metadata": {},
     "output_type": "execute_result"
    }
   ],
   "source": [
    "ss.fisher_exact(table)"
   ]
  },
  {
   "cell_type": "code",
   "execution_count": 14,
   "id": "c6a263ac",
   "metadata": {},
   "outputs": [
    {
     "data": {
      "text/plain": [
       "0.02857142857142857"
      ]
     },
     "execution_count": 14,
     "metadata": {},
     "output_type": "execute_result"
    }
   ],
   "source": [
    "0.014285714285714285 * 2 #fisher comes out 2 x prob from lecture content."
   ]
  },
  {
   "cell_type": "markdown",
   "id": "bfbd0050",
   "metadata": {},
   "source": [
    "When I use the 'greater' alternative parameter I get 1.4 percent probabability. Why?"
   ]
  },
  {
   "cell_type": "code",
   "execution_count": 16,
   "id": "f20c98c2",
   "metadata": {
    "scrolled": false
   },
   "outputs": [
    {
     "data": {
      "text/plain": [
       "(inf, 0.014285714285714268)"
      ]
     },
     "execution_count": 16,
     "metadata": {},
     "output_type": "execute_result"
    }
   ],
   "source": [
    "ss.fisher_exact(table,'greater')"
   ]
  },
  {
   "cell_type": "markdown",
   "id": "57154d9f",
   "metadata": {},
   "source": [
    "Because it is the alternavive hypothesis, Fisher's hypotheses was the Null hypotheses that the lady could not tell how which was poured first. The alternative is that she can tell, and there is a 1.4 percent that would occur randomly. So what is the first number returned without an alternative parameter, i.e, 0.02857142857142857."
   ]
  },
  {
   "cell_type": "code",
   "execution_count": 17,
   "id": "bd4fcdde",
   "metadata": {
    "scrolled": true
   },
   "outputs": [
    {
     "data": {
      "text/plain": [
       "(inf, 0.028571428571428536)"
      ]
     },
     "execution_count": 17,
     "metadata": {},
     "output_type": "execute_result"
    }
   ],
   "source": [
    "ss.fisher_exact(table,'two-sided')"
   ]
  },
  {
   "cell_type": "markdown",
   "id": "fb63f666",
   "metadata": {},
   "source": [
    "According to the documentation is the default alternative hypotheses'two-sided'. As our experiment is symetric, that is 4 right cups is the same as 4 wrong cups, I think the 2.8 percent probability is that of having 4 right or 4 wrong."
   ]
  },
  {
   "cell_type": "code",
   "execution_count": null,
   "id": "8a8f919d",
   "metadata": {},
   "outputs": [],
   "source": []
  },
  {
   "cell_type": "code",
   "execution_count": null,
   "id": "68279b1b",
   "metadata": {},
   "outputs": [],
   "source": []
  },
  {
   "cell_type": "code",
   "execution_count": null,
   "id": "2c6d2cdd",
   "metadata": {},
   "outputs": [],
   "source": []
  }
 ],
 "metadata": {
  "kernelspec": {
   "display_name": "Python 3 (ipykernel)",
   "language": "python",
   "name": "python3"
  },
  "language_info": {
   "codemirror_mode": {
    "name": "ipython",
    "version": 3
   },
   "file_extension": ".py",
   "mimetype": "text/x-python",
   "name": "python",
   "nbconvert_exporter": "python",
   "pygments_lexer": "ipython3",
   "version": "3.9.13"
  }
 },
 "nbformat": 4,
 "nbformat_minor": 5
}
